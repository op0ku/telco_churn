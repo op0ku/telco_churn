{
 "cells": [
  {
   "cell_type": "markdown",
   "metadata": {},
   "source": [
    "# TELCO CUSTOMER CHURN XGBoost + CatBoost / SHAP + LIME"
   ]
  },
  {
   "cell_type": "markdown",
   "metadata": {},
   "source": [
    "**For EDA you can visit this notebook: https://www.kaggle.com/code/rolmez/telco-customer-churn-eda**"
   ]
  },
  {
   "cell_type": "markdown",
   "metadata": {},
   "source": [
    "## Import Libraries"
   ]
  },
  {
   "cell_type": "code",
   "execution_count": 1,
   "metadata": {
    "execution": {
     "iopub.execute_input": "2024-02-16T09:18:26.514477Z",
     "iopub.status.busy": "2024-02-16T09:18:26.513811Z",
     "iopub.status.idle": "2024-02-16T09:18:36.13785Z",
     "shell.execute_reply": "2024-02-16T09:18:36.136838Z",
     "shell.execute_reply.started": "2024-02-16T09:18:26.514433Z"
    }
   },
   "outputs": [],
   "source": [
    "import numpy as np # linear algebra\n",
    "import pandas as pd # data processing, CSV file I/O (e.g. pd.read_csv)\n",
    "import joblib\n",
    "\n",
    "import seaborn as sns\n",
    "import matplotlib.pyplot as plt\n",
    "\n",
    "import os\n",
    "for dirname, _, filenames in os.walk('/kaggle/input'):\n",
    "    for filename in filenames:\n",
    "        print(os.path.join(dirname, filename))\n",
    "        \n",
    "from sklearn import metrics\n",
    "from sklearn.model_selection import train_test_split, StratifiedShuffleSplit\n",
    "from sklearn.metrics import accuracy_score,classification_report, recall_score,confusion_matrix, roc_auc_score, precision_score, f1_score, roc_curve, auc\n",
    "from sklearn.preprocessing import OrdinalEncoder\n",
    "\n",
    "from catboost import CatBoostClassifier, Pool\n",
    "from xgboost import XGBClassifier, plot_importance\n",
    "\n",
    "import shap\n",
    "import lime\n",
    "import lime.lime_tabular"
   ]
  },
  {
   "cell_type": "markdown",
   "metadata": {},
   "source": [
    "## Data Organization"
   ]
  },
  {
   "cell_type": "code",
   "execution_count": 5,
   "metadata": {
    "execution": {
     "iopub.execute_input": "2024-02-16T09:18:36.140856Z",
     "iopub.status.busy": "2024-02-16T09:18:36.139916Z",
     "iopub.status.idle": "2024-02-16T09:18:36.271657Z",
     "shell.execute_reply": "2024-02-16T09:18:36.270151Z",
     "shell.execute_reply.started": "2024-02-16T09:18:36.140812Z"
    }
   },
   "outputs": [
    {
     "name": "stdout",
     "output_type": "stream",
     "text": [
      "<class 'pandas.core.frame.DataFrame'>\n",
      "RangeIndex: 7043 entries, 0 to 7042\n",
      "Data columns (total 20 columns):\n",
      " #   Column            Non-Null Count  Dtype  \n",
      "---  ------            --------------  -----  \n",
      " 0   gender            7043 non-null   object \n",
      " 1   SeniorCitizen     7043 non-null   object \n",
      " 2   Partner           7043 non-null   object \n",
      " 3   Dependents        7043 non-null   object \n",
      " 4   tenure            7043 non-null   int64  \n",
      " 5   PhoneService      7043 non-null   object \n",
      " 6   MultipleLines     7043 non-null   object \n",
      " 7   InternetService   7043 non-null   object \n",
      " 8   OnlineSecurity    7043 non-null   object \n",
      " 9   OnlineBackup      7043 non-null   object \n",
      " 10  DeviceProtection  7043 non-null   object \n",
      " 11  TechSupport       7043 non-null   object \n",
      " 12  StreamingTV       7043 non-null   object \n",
      " 13  StreamingMovies   7043 non-null   object \n",
      " 14  Contract          7043 non-null   object \n",
      " 15  PaperlessBilling  7043 non-null   object \n",
      " 16  PaymentMethod     7043 non-null   object \n",
      " 17  MonthlyCharges    7043 non-null   float64\n",
      " 18  TotalCharges      7043 non-null   float64\n",
      " 19  Churn             7043 non-null   object \n",
      "dtypes: float64(2), int64(1), object(17)\n",
      "memory usage: 1.1+ MB\n"
     ]
    }
   ],
   "source": [
    "from explore import wrangle\n",
    "\n",
    "df = wrangle('C:/Users/solace.dark/Documents/Jupyter Notebook/Practical Projects/Customer Churn Prediction/WA_Fn-UseC_-Telco-Customer-Churn.csv')\n",
    "df.info()"
   ]
  },
  {
   "cell_type": "code",
   "execution_count": 6,
   "metadata": {
    "execution": {
     "iopub.execute_input": "2024-02-16T09:18:36.274771Z",
     "iopub.status.busy": "2024-02-16T09:18:36.273798Z",
     "iopub.status.idle": "2024-02-16T09:18:36.357109Z",
     "shell.execute_reply": "2024-02-16T09:18:36.355645Z",
     "shell.execute_reply.started": "2024-02-16T09:18:36.274726Z"
    }
   },
   "outputs": [
    {
     "name": "stdout",
     "output_type": "stream",
     "text": [
      "Column: gender -> ['Female' 'Male']\n",
      "Unique Number: 2\n",
      "gender\n",
      "Male      3555\n",
      "Female    3488\n",
      "Name: count, dtype: int64 \n",
      "\n",
      "Column: SeniorCitizen -> ['No' 'Yes']\n",
      "Unique Number: 2\n",
      "SeniorCitizen\n",
      "No     5901\n",
      "Yes    1142\n",
      "Name: count, dtype: int64 \n",
      "\n",
      "Column: Partner -> ['Yes' 'No']\n",
      "Unique Number: 2\n",
      "Partner\n",
      "No     3641\n",
      "Yes    3402\n",
      "Name: count, dtype: int64 \n",
      "\n",
      "Column: Dependents -> ['No' 'Yes']\n",
      "Unique Number: 2\n",
      "Dependents\n",
      "No     4933\n",
      "Yes    2110\n",
      "Name: count, dtype: int64 \n",
      "\n",
      "Column: PhoneService -> ['No' 'Yes']\n",
      "Unique Number: 2\n",
      "PhoneService\n",
      "Yes    6361\n",
      "No      682\n",
      "Name: count, dtype: int64 \n",
      "\n",
      "Column: MultipleLines -> ['No' 'Yes']\n",
      "Unique Number: 2\n",
      "MultipleLines\n",
      "No     4072\n",
      "Yes    2971\n",
      "Name: count, dtype: int64 \n",
      "\n",
      "Column: InternetService -> ['DSL' 'Fiber optic' 'No']\n",
      "Unique Number: 3\n",
      "InternetService\n",
      "Fiber optic    3096\n",
      "DSL            2421\n",
      "No             1526\n",
      "Name: count, dtype: int64 \n",
      "\n",
      "Column: OnlineSecurity -> ['No' 'Yes']\n",
      "Unique Number: 2\n",
      "OnlineSecurity\n",
      "No     5024\n",
      "Yes    2019\n",
      "Name: count, dtype: int64 \n",
      "\n",
      "Column: OnlineBackup -> ['Yes' 'No']\n",
      "Unique Number: 2\n",
      "OnlineBackup\n",
      "No     4614\n",
      "Yes    2429\n",
      "Name: count, dtype: int64 \n",
      "\n",
      "Column: DeviceProtection -> ['No' 'Yes']\n",
      "Unique Number: 2\n",
      "DeviceProtection\n",
      "No     4621\n",
      "Yes    2422\n",
      "Name: count, dtype: int64 \n",
      "\n",
      "Column: TechSupport -> ['No' 'Yes']\n",
      "Unique Number: 2\n",
      "TechSupport\n",
      "No     4999\n",
      "Yes    2044\n",
      "Name: count, dtype: int64 \n",
      "\n",
      "Column: StreamingTV -> ['No' 'Yes']\n",
      "Unique Number: 2\n",
      "StreamingTV\n",
      "No     4336\n",
      "Yes    2707\n",
      "Name: count, dtype: int64 \n",
      "\n",
      "Column: StreamingMovies -> ['No' 'Yes']\n",
      "Unique Number: 2\n",
      "StreamingMovies\n",
      "No     4311\n",
      "Yes    2732\n",
      "Name: count, dtype: int64 \n",
      "\n",
      "Column: Contract -> ['Month-to-month' 'One year' 'Two year']\n",
      "Unique Number: 3\n",
      "Contract\n",
      "Month-to-month    3875\n",
      "Two year          1695\n",
      "One year          1473\n",
      "Name: count, dtype: int64 \n",
      "\n",
      "Column: PaperlessBilling -> ['Yes' 'No']\n",
      "Unique Number: 2\n",
      "PaperlessBilling\n",
      "Yes    4171\n",
      "No     2872\n",
      "Name: count, dtype: int64 \n",
      "\n",
      "Column: PaymentMethod -> ['Electronic check' 'Mailed check' 'Bank transfer (automatic)'\n",
      " 'Credit card (automatic)']\n",
      "Unique Number: 4\n",
      "PaymentMethod\n",
      "Electronic check             2365\n",
      "Mailed check                 1612\n",
      "Bank transfer (automatic)    1544\n",
      "Credit card (automatic)      1522\n",
      "Name: count, dtype: int64 \n",
      "\n",
      "Column: Churn -> ['No' 'Yes']\n",
      "Unique Number: 2\n",
      "Churn\n",
      "No     5174\n",
      "Yes    1869\n",
      "Name: count, dtype: int64 \n",
      "\n"
     ]
    }
   ],
   "source": [
    "categorical_columns = df.select_dtypes(include=['object', 'category'])\n",
    "for feature in categorical_columns:\n",
    "    print(f\"Column: {feature} -> {df[feature].unique()}\")\n",
    "    print(f\"Unique Number: {df[feature].nunique()}\")\n",
    "    print(f\"{df[feature].value_counts()} \\n\")"
   ]
  },
  {
   "cell_type": "code",
   "execution_count": null,
   "metadata": {
    "execution": {
     "iopub.execute_input": "2024-02-15T10:35:44.996061Z",
     "iopub.status.busy": "2024-02-15T10:35:44.995697Z",
     "iopub.status.idle": "2024-02-15T10:35:45.022873Z",
     "shell.execute_reply": "2024-02-15T10:35:45.021485Z",
     "shell.execute_reply.started": "2024-02-15T10:35:44.996031Z"
    }
   },
   "outputs": [],
   "source": [
    "df.isnull().sum()"
   ]
  },
  {
   "cell_type": "markdown",
   "metadata": {},
   "source": [
    "* *We need to drop the custoemerID column that each customer has unique, but I will leave it this way because I will use this value in my future applications. And make the TotalCharges variable numeric. We know from the EDA notebook that the TotalCharges variable has 11 empty values. Let's statistically fill these values using tenure and MonthlyCharges variables.*\n",
    "* *In MultipleLines, OnlineSecurity, OnlineBackup, DeviceProtection, TechSupport, StreamingTV and StreamingMovies variables 'No' and 'No internet-phone service' are used repeatedly although they mean the same thing. These need to be merged during the model development phase.*"
   ]
  },
  {
   "cell_type": "code",
   "execution_count": null,
   "metadata": {
    "execution": {
     "iopub.execute_input": "2024-02-16T09:18:36.360024Z",
     "iopub.status.busy": "2024-02-16T09:18:36.359662Z",
     "iopub.status.idle": "2024-02-16T09:18:36.396659Z",
     "shell.execute_reply": "2024-02-16T09:18:36.395447Z",
     "shell.execute_reply.started": "2024-02-16T09:18:36.359994Z"
    }
   },
   "outputs": [],
   "source": [
    "df['TotalCharges'] = pd.to_numeric(df['TotalCharges'], errors='coerce')\n",
    "df['TotalCharges'].fillna(df['tenure'] * df['MonthlyCharges'], inplace=True)\n",
    "df['SeniorCitizen'] = df['SeniorCitizen'].astype(object)\n",
    "\n",
    "df['MultipleLines'] = df['MultipleLines'].replace('No phone service','No')\n",
    "columns_to_replace = ['OnlineSecurity', 'OnlineBackup', 'DeviceProtection', 'TechSupport', 'StreamingTV', 'StreamingMovies']\n",
    "for column in columns_to_replace:\n",
    "    df[column] = df[column].replace('No internet service', 'No')\n",
    "    \n",
    "# Changing categorical variables to numeric:\n",
    "df['Churn'] = df['Churn'].replace({'No': 0, 'Yes': 1})"
   ]
  },
  {
   "cell_type": "code",
   "execution_count": 7,
   "metadata": {
    "execution": {
     "iopub.execute_input": "2024-02-16T07:51:47.933467Z",
     "iopub.status.busy": "2024-02-16T07:51:47.932978Z",
     "iopub.status.idle": "2024-02-16T07:51:48.04031Z",
     "shell.execute_reply": "2024-02-16T07:51:48.039014Z",
     "shell.execute_reply.started": "2024-02-16T07:51:47.933417Z"
    }
   },
   "outputs": [],
   "source": [
    "# Save the edited data\n",
    "df.to_parquet('churn_data_regulated.parquet')"
   ]
  },
  {
   "cell_type": "markdown",
   "metadata": {},
   "source": [
    "## Preparation of Data for the CatBoost Model"
   ]
  },
  {
   "cell_type": "markdown",
   "metadata": {},
   "source": [
    "Telco dataset is an unbalanced data set. We need to maintain the balance ratio when splitting this dataset into training and test sets. Let's use StratifiedShuffleSplit to maintain this ratio."
   ]
  },
  {
   "cell_type": "code",
   "execution_count": 8,
   "metadata": {
    "execution": {
     "iopub.execute_input": "2024-02-16T09:18:40.935189Z",
     "iopub.status.busy": "2024-02-16T09:18:40.934617Z",
     "iopub.status.idle": "2024-02-16T09:18:40.980051Z",
     "shell.execute_reply": "2024-02-16T09:18:40.978914Z",
     "shell.execute_reply.started": "2024-02-16T09:18:40.935148Z"
    }
   },
   "outputs": [
    {
     "name": "stdout",
     "output_type": "stream",
     "text": [
      "Target Labels Ratio in Original Dataset\n",
      "\n",
      "Churn\n",
      "No     0.73463\n",
      "Yes    0.26537\n",
      "Name: proportion, dtype: float64\n",
      "\n",
      "Target Labels Ratio in Test Dataset\n",
      "\n",
      "Churn\n",
      "No     0.734564\n",
      "Yes    0.265436\n",
      "Name: proportion, dtype: float64\n"
     ]
    }
   ],
   "source": [
    "# Create the StratifiedShuffleSplit object\n",
    "strat_split = StratifiedShuffleSplit(n_splits=1, test_size=0.2, random_state=64)\n",
    "\n",
    "train_index, test_index = next(strat_split.split(df, df[\"Churn\"]))\n",
    "\n",
    "# Create train and test sets\n",
    "strat_train_set = df.loc[train_index]\n",
    "strat_test_set = df.loc[test_index]\n",
    "\n",
    "# Proportion of the target variable in the original data set\n",
    "print('Target Labels Ratio in Original Dataset\\n')\n",
    "print(df[\"Churn\"].value_counts(normalize=True).sort_index())\n",
    "\n",
    "# Proportion of the target variable in the test set\n",
    "print('\\nTarget Labels Ratio in Test Dataset\\n')\n",
    "print(strat_test_set[\"Churn\"].value_counts(normalize=True).sort_index())\n",
    "\n",
    "X_train = strat_train_set.drop(\"Churn\", axis=1)\n",
    "y_train = strat_train_set[\"Churn\"].copy()\n",
    "\n",
    "X_test = strat_test_set.drop(\"Churn\", axis=1)\n",
    "y_test = strat_test_set[\"Churn\"].copy()"
   ]
  },
  {
   "cell_type": "code",
   "execution_count": null,
   "metadata": {
    "execution": {
     "iopub.execute_input": "2024-02-16T09:18:41.830374Z",
     "iopub.status.busy": "2024-02-16T09:18:41.829807Z",
     "iopub.status.idle": "2024-02-16T09:18:41.871926Z",
     "shell.execute_reply": "2024-02-16T09:18:41.870403Z",
     "shell.execute_reply.started": "2024-02-16T09:18:41.830301Z"
    }
   },
   "outputs": [],
   "source": [
    "# Save the datasets\n",
    "joblib.dump(X_train, 'X_train.pkl')\n",
    "joblib.dump(y_train, 'y_train.pkl')\n",
    "joblib.dump(X_test, 'X_test.pkl')\n",
    "joblib.dump(y_test, 'y_test.pkl')"
   ]
  },
  {
   "cell_type": "markdown",
   "metadata": {},
   "source": [
    "## CatBoost Model"
   ]
  },
  {
   "cell_type": "code",
   "execution_count": 9,
   "metadata": {
    "execution": {
     "iopub.execute_input": "2024-02-16T09:38:26.499713Z",
     "iopub.status.busy": "2024-02-16T09:38:26.499222Z",
     "iopub.status.idle": "2024-02-16T09:38:39.326035Z",
     "shell.execute_reply": "2024-02-16T09:38:39.324549Z",
     "shell.execute_reply.started": "2024-02-16T09:38:26.49968Z"
    }
   },
   "outputs": [
    {
     "ename": "ValueError",
     "evalue": "'Churn' is not in list",
     "output_type": "error",
     "traceback": [
      "\u001b[1;31m---------------------------------------------------------------------------\u001b[0m",
      "\u001b[1;31mValueError\u001b[0m                                Traceback (most recent call last)",
      "Cell \u001b[1;32mIn[9], line 5\u001b[0m\n\u001b[0;32m      1\u001b[0m categorical_columns \u001b[38;5;241m=\u001b[39m df\u001b[38;5;241m.\u001b[39mselect_dtypes(include\u001b[38;5;241m=\u001b[39m[\u001b[38;5;124m'\u001b[39m\u001b[38;5;124mobject\u001b[39m\u001b[38;5;124m'\u001b[39m])\u001b[38;5;241m.\u001b[39mcolumns\u001b[38;5;241m.\u001b[39mtolist()\n\u001b[0;32m      3\u001b[0m cat_model \u001b[38;5;241m=\u001b[39m CatBoostClassifier(verbose\u001b[38;5;241m=\u001b[39m\u001b[38;5;28;01mFalse\u001b[39;00m, random_state\u001b[38;5;241m=\u001b[39m\u001b[38;5;241m0\u001b[39m, scale_pos_weight\u001b[38;5;241m=\u001b[39m\u001b[38;5;241m3\u001b[39m)\n\u001b[1;32m----> 5\u001b[0m cat_model\u001b[38;5;241m.\u001b[39mfit(X_train, y_train, cat_features\u001b[38;5;241m=\u001b[39mcategorical_columns, eval_set\u001b[38;5;241m=\u001b[39m(X_test, y_test))\n\u001b[0;32m      7\u001b[0m y_pred \u001b[38;5;241m=\u001b[39m cat_model\u001b[38;5;241m.\u001b[39mpredict(X_test)\n\u001b[0;32m      9\u001b[0m accuracy, recall, roc_auc, precision \u001b[38;5;241m=\u001b[39m [\u001b[38;5;28mround\u001b[39m(metric(y_test, y_pred), \u001b[38;5;241m4\u001b[39m) \u001b[38;5;28;01mfor\u001b[39;00m metric \u001b[38;5;129;01min\u001b[39;00m [accuracy_score, recall_score, roc_auc_score, precision_score]]\n",
      "File \u001b[1;32m~\\anaconda3\\Lib\\site-packages\\catboost\\core.py:5220\u001b[0m, in \u001b[0;36mCatBoostClassifier.fit\u001b[1;34m(self, X, y, cat_features, text_features, embedding_features, sample_weight, baseline, use_best_model, eval_set, verbose, logging_level, plot, plot_file, column_description, verbose_eval, metric_period, silent, early_stopping_rounds, save_snapshot, snapshot_file, snapshot_interval, init_model, callbacks, log_cout, log_cerr)\u001b[0m\n\u001b[0;32m   5217\u001b[0m \u001b[38;5;28;01mif\u001b[39;00m \u001b[38;5;124m'\u001b[39m\u001b[38;5;124mloss_function\u001b[39m\u001b[38;5;124m'\u001b[39m \u001b[38;5;129;01min\u001b[39;00m params:\n\u001b[0;32m   5218\u001b[0m     CatBoostClassifier\u001b[38;5;241m.\u001b[39m_check_is_compatible_loss(params[\u001b[38;5;124m'\u001b[39m\u001b[38;5;124mloss_function\u001b[39m\u001b[38;5;124m'\u001b[39m])\n\u001b[1;32m-> 5220\u001b[0m \u001b[38;5;28mself\u001b[39m\u001b[38;5;241m.\u001b[39m_fit(X, y, cat_features, text_features, embedding_features, \u001b[38;5;28;01mNone\u001b[39;00m, sample_weight, \u001b[38;5;28;01mNone\u001b[39;00m, \u001b[38;5;28;01mNone\u001b[39;00m, \u001b[38;5;28;01mNone\u001b[39;00m, \u001b[38;5;28;01mNone\u001b[39;00m, baseline, use_best_model,\n\u001b[0;32m   5221\u001b[0m           eval_set, verbose, logging_level, plot, plot_file, column_description, verbose_eval, metric_period,\n\u001b[0;32m   5222\u001b[0m           silent, early_stopping_rounds, save_snapshot, snapshot_file, snapshot_interval, init_model, callbacks, log_cout, log_cerr)\n\u001b[0;32m   5223\u001b[0m \u001b[38;5;28;01mreturn\u001b[39;00m \u001b[38;5;28mself\u001b[39m\n",
      "File \u001b[1;32m~\\anaconda3\\Lib\\site-packages\\catboost\\core.py:2385\u001b[0m, in \u001b[0;36mCatBoost._fit\u001b[1;34m(self, X, y, cat_features, text_features, embedding_features, pairs, sample_weight, group_id, group_weight, subgroup_id, pairs_weight, baseline, use_best_model, eval_set, verbose, logging_level, plot, plot_file, column_description, verbose_eval, metric_period, silent, early_stopping_rounds, save_snapshot, snapshot_file, snapshot_interval, init_model, callbacks, log_cout, log_cerr)\u001b[0m\n\u001b[0;32m   2382\u001b[0m \u001b[38;5;28;01mif\u001b[39;00m y \u001b[38;5;129;01mis\u001b[39;00m \u001b[38;5;28;01mNone\u001b[39;00m \u001b[38;5;129;01mand\u001b[39;00m \u001b[38;5;129;01mnot\u001b[39;00m \u001b[38;5;28misinstance\u001b[39m(X, PATH_TYPES \u001b[38;5;241m+\u001b[39m (Pool,)):\n\u001b[0;32m   2383\u001b[0m     \u001b[38;5;28;01mraise\u001b[39;00m CatBoostError(\u001b[38;5;124m\"\u001b[39m\u001b[38;5;124my may be None only when X is an instance of catboost.Pool or string\u001b[39m\u001b[38;5;124m\"\u001b[39m)\n\u001b[1;32m-> 2385\u001b[0m train_params \u001b[38;5;241m=\u001b[39m \u001b[38;5;28mself\u001b[39m\u001b[38;5;241m.\u001b[39m_prepare_train_params(\n\u001b[0;32m   2386\u001b[0m     X\u001b[38;5;241m=\u001b[39mX, y\u001b[38;5;241m=\u001b[39my, cat_features\u001b[38;5;241m=\u001b[39mcat_features, text_features\u001b[38;5;241m=\u001b[39mtext_features, embedding_features\u001b[38;5;241m=\u001b[39membedding_features,\n\u001b[0;32m   2387\u001b[0m     pairs\u001b[38;5;241m=\u001b[39mpairs, sample_weight\u001b[38;5;241m=\u001b[39msample_weight, group_id\u001b[38;5;241m=\u001b[39mgroup_id, group_weight\u001b[38;5;241m=\u001b[39mgroup_weight,\n\u001b[0;32m   2388\u001b[0m     subgroup_id\u001b[38;5;241m=\u001b[39msubgroup_id, pairs_weight\u001b[38;5;241m=\u001b[39mpairs_weight, baseline\u001b[38;5;241m=\u001b[39mbaseline, use_best_model\u001b[38;5;241m=\u001b[39muse_best_model,\n\u001b[0;32m   2389\u001b[0m     eval_set\u001b[38;5;241m=\u001b[39meval_set, verbose\u001b[38;5;241m=\u001b[39mverbose, logging_level\u001b[38;5;241m=\u001b[39mlogging_level, plot\u001b[38;5;241m=\u001b[39mplot, plot_file\u001b[38;5;241m=\u001b[39mplot_file,\n\u001b[0;32m   2390\u001b[0m     column_description\u001b[38;5;241m=\u001b[39mcolumn_description, verbose_eval\u001b[38;5;241m=\u001b[39mverbose_eval, metric_period\u001b[38;5;241m=\u001b[39mmetric_period,\n\u001b[0;32m   2391\u001b[0m     silent\u001b[38;5;241m=\u001b[39msilent, early_stopping_rounds\u001b[38;5;241m=\u001b[39mearly_stopping_rounds, save_snapshot\u001b[38;5;241m=\u001b[39msave_snapshot,\n\u001b[0;32m   2392\u001b[0m     snapshot_file\u001b[38;5;241m=\u001b[39msnapshot_file, snapshot_interval\u001b[38;5;241m=\u001b[39msnapshot_interval, init_model\u001b[38;5;241m=\u001b[39minit_model,\n\u001b[0;32m   2393\u001b[0m     callbacks\u001b[38;5;241m=\u001b[39mcallbacks\n\u001b[0;32m   2394\u001b[0m )\n\u001b[0;32m   2395\u001b[0m params \u001b[38;5;241m=\u001b[39m train_params[\u001b[38;5;124m\"\u001b[39m\u001b[38;5;124mparams\u001b[39m\u001b[38;5;124m\"\u001b[39m]\n\u001b[0;32m   2396\u001b[0m train_pool \u001b[38;5;241m=\u001b[39m train_params[\u001b[38;5;124m\"\u001b[39m\u001b[38;5;124mtrain_pool\u001b[39m\u001b[38;5;124m\"\u001b[39m]\n",
      "File \u001b[1;32m~\\anaconda3\\Lib\\site-packages\\catboost\\core.py:2265\u001b[0m, in \u001b[0;36mCatBoost._prepare_train_params\u001b[1;34m(self, X, y, cat_features, text_features, embedding_features, pairs, sample_weight, group_id, group_weight, subgroup_id, pairs_weight, baseline, use_best_model, eval_set, verbose, logging_level, plot, plot_file, column_description, verbose_eval, metric_period, silent, early_stopping_rounds, save_snapshot, snapshot_file, snapshot_interval, init_model, callbacks)\u001b[0m\n\u001b[0;32m   2262\u001b[0m text_features \u001b[38;5;241m=\u001b[39m _process_feature_indices(text_features, X, params, \u001b[38;5;124m'\u001b[39m\u001b[38;5;124mtext_features\u001b[39m\u001b[38;5;124m'\u001b[39m)\n\u001b[0;32m   2263\u001b[0m embedding_features \u001b[38;5;241m=\u001b[39m _process_feature_indices(embedding_features, X, params, \u001b[38;5;124m'\u001b[39m\u001b[38;5;124membedding_features\u001b[39m\u001b[38;5;124m'\u001b[39m)\n\u001b[1;32m-> 2265\u001b[0m train_pool \u001b[38;5;241m=\u001b[39m _build_train_pool(X, y, cat_features, text_features, embedding_features, pairs,\n\u001b[0;32m   2266\u001b[0m                                sample_weight, group_id, group_weight, subgroup_id, pairs_weight,\n\u001b[0;32m   2267\u001b[0m                                baseline, column_description)\n\u001b[0;32m   2268\u001b[0m \u001b[38;5;28;01mif\u001b[39;00m train_pool\u001b[38;5;241m.\u001b[39mis_empty_:\n\u001b[0;32m   2269\u001b[0m     \u001b[38;5;28;01mraise\u001b[39;00m CatBoostError(\u001b[38;5;124m\"\u001b[39m\u001b[38;5;124mX is empty.\u001b[39m\u001b[38;5;124m\"\u001b[39m)\n",
      "File \u001b[1;32m~\\anaconda3\\Lib\\site-packages\\catboost\\core.py:1503\u001b[0m, in \u001b[0;36m_build_train_pool\u001b[1;34m(X, y, cat_features, text_features, embedding_features, pairs, sample_weight, group_id, group_weight, subgroup_id, pairs_weight, baseline, column_description)\u001b[0m\n\u001b[0;32m   1501\u001b[0m     \u001b[38;5;28;01mif\u001b[39;00m y \u001b[38;5;129;01mis\u001b[39;00m \u001b[38;5;28;01mNone\u001b[39;00m:\n\u001b[0;32m   1502\u001b[0m         \u001b[38;5;28;01mraise\u001b[39;00m CatBoostError(\u001b[38;5;124m\"\u001b[39m\u001b[38;5;124my has not initialized in fit(): X is not catboost.Pool object, y must be not None in fit().\u001b[39m\u001b[38;5;124m\"\u001b[39m)\n\u001b[1;32m-> 1503\u001b[0m     train_pool \u001b[38;5;241m=\u001b[39m Pool(X, y, cat_features\u001b[38;5;241m=\u001b[39mcat_features, text_features\u001b[38;5;241m=\u001b[39mtext_features, embedding_features\u001b[38;5;241m=\u001b[39membedding_features, pairs\u001b[38;5;241m=\u001b[39mpairs, weight\u001b[38;5;241m=\u001b[39msample_weight, group_id\u001b[38;5;241m=\u001b[39mgroup_id,\n\u001b[0;32m   1504\u001b[0m                       group_weight\u001b[38;5;241m=\u001b[39mgroup_weight, subgroup_id\u001b[38;5;241m=\u001b[39msubgroup_id, pairs_weight\u001b[38;5;241m=\u001b[39mpairs_weight, baseline\u001b[38;5;241m=\u001b[39mbaseline)\n\u001b[0;32m   1505\u001b[0m \u001b[38;5;28;01mreturn\u001b[39;00m train_pool\n",
      "File \u001b[1;32m~\\anaconda3\\Lib\\site-packages\\catboost\\core.py:848\u001b[0m, in \u001b[0;36mPool.__init__\u001b[1;34m(self, data, label, cat_features, text_features, embedding_features, embedding_features_data, column_description, pairs, delimiter, has_header, ignore_csv_quoting, weight, group_id, group_weight, subgroup_id, pairs_weight, baseline, timestamp, feature_names, feature_tags, thread_count, log_cout, log_cerr, data_can_be_none)\u001b[0m\n\u001b[0;32m    842\u001b[0m         \u001b[38;5;28;01mif\u001b[39;00m \u001b[38;5;28misinstance\u001b[39m(feature_names, PATH_TYPES):\n\u001b[0;32m    843\u001b[0m             \u001b[38;5;28;01mraise\u001b[39;00m CatBoostError(\n\u001b[0;32m    844\u001b[0m                 \u001b[38;5;124m\"\u001b[39m\u001b[38;5;124mfeature_names must be None or have non-string type when the pool is created from \u001b[39m\u001b[38;5;124m\"\u001b[39m\n\u001b[0;32m    845\u001b[0m                 \u001b[38;5;124m\"\u001b[39m\u001b[38;5;124mpython objects.\u001b[39m\u001b[38;5;124m\"\u001b[39m\n\u001b[0;32m    846\u001b[0m             )\n\u001b[1;32m--> 848\u001b[0m         \u001b[38;5;28mself\u001b[39m\u001b[38;5;241m.\u001b[39m_init(data, label, cat_features, text_features, embedding_features, embedding_features_data, pairs, weight,\n\u001b[0;32m    849\u001b[0m                    group_id, group_weight, subgroup_id, pairs_weight, baseline, timestamp, feature_names, feature_tags, thread_count)\n\u001b[0;32m    850\u001b[0m \u001b[38;5;28;01melif\u001b[39;00m \u001b[38;5;129;01mnot\u001b[39;00m data_can_be_none:\n\u001b[0;32m    851\u001b[0m     \u001b[38;5;28;01mraise\u001b[39;00m CatBoostError(\u001b[38;5;124m\"\u001b[39m\u001b[38;5;124m'\u001b[39m\u001b[38;5;124mdata\u001b[39m\u001b[38;5;124m'\u001b[39m\u001b[38;5;124m parameter can\u001b[39m\u001b[38;5;124m'\u001b[39m\u001b[38;5;124mt be None\u001b[39m\u001b[38;5;124m\"\u001b[39m)\n",
      "File \u001b[1;32m~\\anaconda3\\Lib\\site-packages\\catboost\\core.py:1433\u001b[0m, in \u001b[0;36mPool._init\u001b[1;34m(self, data, label, cat_features, text_features, embedding_features, embedding_features_data, pairs, weight, group_id, group_weight, subgroup_id, pairs_weight, baseline, timestamp, feature_names, feature_tags, thread_count)\u001b[0m\n\u001b[0;32m   1431\u001b[0m     \u001b[38;5;28mself\u001b[39m\u001b[38;5;241m.\u001b[39m_check_feature_names(feature_names, features_count)\n\u001b[0;32m   1432\u001b[0m \u001b[38;5;28;01mif\u001b[39;00m cat_features \u001b[38;5;129;01mis\u001b[39;00m \u001b[38;5;129;01mnot\u001b[39;00m \u001b[38;5;28;01mNone\u001b[39;00m:\n\u001b[1;32m-> 1433\u001b[0m     cat_features \u001b[38;5;241m=\u001b[39m _get_features_indices(cat_features, feature_names)\n\u001b[0;32m   1434\u001b[0m     \u001b[38;5;28mself\u001b[39m\u001b[38;5;241m.\u001b[39m_check_string_feature_type(cat_features, \u001b[38;5;124m'\u001b[39m\u001b[38;5;124mcat_features\u001b[39m\u001b[38;5;124m'\u001b[39m)\n\u001b[0;32m   1435\u001b[0m     \u001b[38;5;28mself\u001b[39m\u001b[38;5;241m.\u001b[39m_check_string_feature_value(cat_features, features_count, \u001b[38;5;124m'\u001b[39m\u001b[38;5;124mcat_features\u001b[39m\u001b[38;5;124m'\u001b[39m)\n",
      "File \u001b[1;32m~\\anaconda3\\Lib\\site-packages\\catboost\\core.py:318\u001b[0m, in \u001b[0;36m_get_features_indices\u001b[1;34m(features, feature_names)\u001b[0m\n\u001b[0;32m    316\u001b[0m     \u001b[38;5;28;01mraise\u001b[39;00m CatBoostError(\u001b[38;5;124m\"\u001b[39m\u001b[38;5;124mfeature names should be a sequence, but got \u001b[39m\u001b[38;5;124m\"\u001b[39m \u001b[38;5;241m+\u001b[39m \u001b[38;5;28mrepr\u001b[39m(features))\n\u001b[0;32m    317\u001b[0m \u001b[38;5;28;01mif\u001b[39;00m feature_names \u001b[38;5;129;01mis\u001b[39;00m \u001b[38;5;129;01mnot\u001b[39;00m \u001b[38;5;28;01mNone\u001b[39;00m:\n\u001b[1;32m--> 318\u001b[0m     \u001b[38;5;28;01mreturn\u001b[39;00m [\n\u001b[0;32m    319\u001b[0m         feature_names\u001b[38;5;241m.\u001b[39mindex(f) \u001b[38;5;28;01mif\u001b[39;00m \u001b[38;5;28misinstance\u001b[39m(f, STRING_TYPES) \u001b[38;5;28;01melse\u001b[39;00m f\n\u001b[0;32m    320\u001b[0m         \u001b[38;5;28;01mfor\u001b[39;00m f \u001b[38;5;129;01min\u001b[39;00m features\n\u001b[0;32m    321\u001b[0m     ]\n\u001b[0;32m    322\u001b[0m \u001b[38;5;28;01melse\u001b[39;00m:\n\u001b[0;32m    323\u001b[0m     \u001b[38;5;28;01mfor\u001b[39;00m f \u001b[38;5;129;01min\u001b[39;00m features:\n",
      "File \u001b[1;32m~\\anaconda3\\Lib\\site-packages\\catboost\\core.py:319\u001b[0m, in \u001b[0;36m<listcomp>\u001b[1;34m(.0)\u001b[0m\n\u001b[0;32m    316\u001b[0m     \u001b[38;5;28;01mraise\u001b[39;00m CatBoostError(\u001b[38;5;124m\"\u001b[39m\u001b[38;5;124mfeature names should be a sequence, but got \u001b[39m\u001b[38;5;124m\"\u001b[39m \u001b[38;5;241m+\u001b[39m \u001b[38;5;28mrepr\u001b[39m(features))\n\u001b[0;32m    317\u001b[0m \u001b[38;5;28;01mif\u001b[39;00m feature_names \u001b[38;5;129;01mis\u001b[39;00m \u001b[38;5;129;01mnot\u001b[39;00m \u001b[38;5;28;01mNone\u001b[39;00m:\n\u001b[0;32m    318\u001b[0m     \u001b[38;5;28;01mreturn\u001b[39;00m [\n\u001b[1;32m--> 319\u001b[0m         feature_names\u001b[38;5;241m.\u001b[39mindex(f) \u001b[38;5;28;01mif\u001b[39;00m \u001b[38;5;28misinstance\u001b[39m(f, STRING_TYPES) \u001b[38;5;28;01melse\u001b[39;00m f\n\u001b[0;32m    320\u001b[0m         \u001b[38;5;28;01mfor\u001b[39;00m f \u001b[38;5;129;01min\u001b[39;00m features\n\u001b[0;32m    321\u001b[0m     ]\n\u001b[0;32m    322\u001b[0m \u001b[38;5;28;01melse\u001b[39;00m:\n\u001b[0;32m    323\u001b[0m     \u001b[38;5;28;01mfor\u001b[39;00m f \u001b[38;5;129;01min\u001b[39;00m features:\n",
      "\u001b[1;31mValueError\u001b[0m: 'Churn' is not in list"
     ]
    }
   ],
   "source": [
    "categorical_columns = df.select_dtypes(include=['object']).columns.tolist()\n",
    "\n",
    "cat_model = CatBoostClassifier(verbose=False, random_state=0, scale_pos_weight=3)\n",
    "\n",
    "cat_model.fit(X_train, y_train, cat_features=categorical_columns, eval_set=(X_test, y_test))\n",
    "\n",
    "y_pred = cat_model.predict(X_test)\n",
    "\n",
    "accuracy, recall, roc_auc, precision = [round(metric(y_test, y_pred), 4) for metric in [accuracy_score, recall_score, roc_auc_score, precision_score]]\n",
    "\n",
    "model_names = ['CatBoost_Model']\n",
    "\n",
    "result = pd.DataFrame({'Accuracy':accuracy,\n",
    "                       'Recall':recall, \n",
    "                       'Roc_Auc':roc_auc, \n",
    "                       'Precision':precision}, index=model_names)\n",
    "\n",
    "result"
   ]
  },
  {
   "cell_type": "code",
   "execution_count": null,
   "metadata": {
    "execution": {
     "iopub.execute_input": "2024-02-15T10:35:56.422941Z",
     "iopub.status.busy": "2024-02-15T10:35:56.422586Z",
     "iopub.status.idle": "2024-02-15T10:35:56.438705Z",
     "shell.execute_reply": "2024-02-15T10:35:56.43721Z",
     "shell.execute_reply.started": "2024-02-15T10:35:56.42291Z"
    }
   },
   "outputs": [],
   "source": [
    "cat_model.save_model('cat_model.cbm')"
   ]
  },
  {
   "cell_type": "code",
   "execution_count": null,
   "metadata": {
    "execution": {
     "iopub.execute_input": "2024-02-16T09:38:39.330611Z",
     "iopub.status.busy": "2024-02-16T09:38:39.328478Z",
     "iopub.status.idle": "2024-02-16T09:38:39.412907Z",
     "shell.execute_reply": "2024-02-16T09:38:39.411437Z",
     "shell.execute_reply.started": "2024-02-16T09:38:39.330553Z"
    }
   },
   "outputs": [],
   "source": [
    "pool = Pool(X_train, y_train, cat_features=categorical_columns)\n",
    "\n",
    "feature_importance = pd.DataFrame({'feature_importance': cat_model.get_feature_importance(pool), \n",
    "                      'feature_names': X_train.columns}).sort_values(by=['feature_importance'], \n",
    "                                                           ascending=False)\n",
    "\n",
    "feature_importance"
   ]
  },
  {
   "cell_type": "code",
   "execution_count": null,
   "metadata": {
    "execution": {
     "iopub.execute_input": "2024-02-16T09:38:39.414904Z",
     "iopub.status.busy": "2024-02-16T09:38:39.414551Z",
     "iopub.status.idle": "2024-02-16T09:38:39.838977Z",
     "shell.execute_reply": "2024-02-16T09:38:39.837609Z",
     "shell.execute_reply.started": "2024-02-16T09:38:39.414875Z"
    }
   },
   "outputs": [],
   "source": [
    "plt.figure(figsize=(10,10))\n",
    "sns.barplot(x=feature_importance['feature_importance'], y=feature_importance['feature_names'], palette = 'rocket')\n",
    "plt.show()"
   ]
  },
  {
   "cell_type": "code",
   "execution_count": null,
   "metadata": {
    "execution": {
     "iopub.execute_input": "2024-02-16T09:38:39.842285Z",
     "iopub.status.busy": "2024-02-16T09:38:39.84192Z",
     "iopub.status.idle": "2024-02-16T09:38:40.09611Z",
     "shell.execute_reply": "2024-02-16T09:38:40.094936Z",
     "shell.execute_reply.started": "2024-02-16T09:38:39.842257Z"
    }
   },
   "outputs": [],
   "source": [
    "cat_confusion_matrix = metrics.confusion_matrix(y_test, y_pred)\n",
    "sns.heatmap(cat_confusion_matrix, annot=True, fmt=\"d\")\n",
    "\n",
    "plt.xlabel(\"Predicted Label\", fontsize= 12)\n",
    "plt.ylabel(\"True Label\", fontsize= 12)\n",
    "\n",
    "plt.show()"
   ]
  },
  {
   "cell_type": "code",
   "execution_count": null,
   "metadata": {
    "execution": {
     "iopub.execute_input": "2024-02-16T09:38:40.097788Z",
     "iopub.status.busy": "2024-02-16T09:38:40.09744Z",
     "iopub.status.idle": "2024-02-16T09:38:40.119116Z",
     "shell.execute_reply": "2024-02-16T09:38:40.11767Z",
     "shell.execute_reply.started": "2024-02-16T09:38:40.097759Z"
    }
   },
   "outputs": [],
   "source": [
    "print(metrics.classification_report(y_test, y_pred, labels = [0, 1]))"
   ]
  },
  {
   "cell_type": "markdown",
   "metadata": {},
   "source": [
    "# SHAP"
   ]
  },
  {
   "cell_type": "code",
   "execution_count": null,
   "metadata": {
    "execution": {
     "iopub.execute_input": "2024-02-16T09:38:40.121067Z",
     "iopub.status.busy": "2024-02-16T09:38:40.120702Z",
     "iopub.status.idle": "2024-02-16T09:38:40.914283Z",
     "shell.execute_reply": "2024-02-16T09:38:40.912653Z",
     "shell.execute_reply.started": "2024-02-16T09:38:40.121038Z"
    }
   },
   "outputs": [],
   "source": [
    "explainercat = shap.TreeExplainer(cat_model)\n",
    "shap_values_cat_train = explainercat.shap_values(X_train)\n",
    "shap_values_cat_test = explainercat.shap_values(X_test)"
   ]
  },
  {
   "cell_type": "code",
   "execution_count": null,
   "metadata": {
    "execution": {
     "iopub.execute_input": "2024-02-16T09:38:40.916558Z",
     "iopub.status.busy": "2024-02-16T09:38:40.916148Z",
     "iopub.status.idle": "2024-02-16T09:38:41.358391Z",
     "shell.execute_reply": "2024-02-16T09:38:41.357114Z",
     "shell.execute_reply.started": "2024-02-16T09:38:40.916527Z"
    }
   },
   "outputs": [],
   "source": [
    "shap.summary_plot(shap_values_cat_train, X_train, plot_type=\"bar\",plot_size=(12,12))"
   ]
  },
  {
   "cell_type": "code",
   "execution_count": null,
   "metadata": {
    "execution": {
     "iopub.execute_input": "2024-02-16T09:38:41.360408Z",
     "iopub.status.busy": "2024-02-16T09:38:41.360003Z",
     "iopub.status.idle": "2024-02-16T09:38:43.277178Z",
     "shell.execute_reply": "2024-02-16T09:38:43.275949Z",
     "shell.execute_reply.started": "2024-02-16T09:38:41.360375Z"
    }
   },
   "outputs": [],
   "source": [
    "# summarize the effects of all the features\n",
    "\n",
    "fig = plt.subplots(figsize=(6,6),dpi=200)\n",
    "\n",
    "ax = shap.summary_plot(shap_values_cat_train, X_train,plot_type=\"dot\")"
   ]
  },
  {
   "cell_type": "code",
   "execution_count": null,
   "metadata": {
    "execution": {
     "iopub.execute_input": "2024-02-16T09:38:43.279499Z",
     "iopub.status.busy": "2024-02-16T09:38:43.279097Z",
     "iopub.status.idle": "2024-02-16T09:38:43.465998Z",
     "shell.execute_reply": "2024-02-16T09:38:43.464934Z",
     "shell.execute_reply.started": "2024-02-16T09:38:43.279467Z"
    }
   },
   "outputs": [],
   "source": [
    "# Contract\n",
    "\n",
    "fig, ax= plt.subplots(figsize=(6,6),dpi=100)\n",
    "shp_plt = shap.dependence_plot(\"Contract\", shap_values_cat_test, X_test,ax=ax,interaction_index=None)"
   ]
  },
  {
   "cell_type": "code",
   "execution_count": null,
   "metadata": {
    "collapsed": true,
    "execution": {
     "iopub.execute_input": "2024-02-16T09:38:43.4699Z",
     "iopub.status.busy": "2024-02-16T09:38:43.46892Z",
     "iopub.status.idle": "2024-02-16T09:38:43.657674Z",
     "shell.execute_reply": "2024-02-16T09:38:43.656608Z",
     "shell.execute_reply.started": "2024-02-16T09:38:43.469858Z"
    },
    "jupyter": {
     "outputs_hidden": true
    }
   },
   "outputs": [],
   "source": [
    "# Internet Service\n",
    "\n",
    "fig, ax= plt.subplots(figsize=(6,6),dpi=100)\n",
    "\n",
    "shap.dependence_plot(\"InternetService\", shap_values_cat_test, X_test,ax=ax, interaction_index=None)"
   ]
  },
  {
   "cell_type": "code",
   "execution_count": null,
   "metadata": {
    "collapsed": true,
    "execution": {
     "iopub.execute_input": "2024-02-15T10:36:00.64602Z",
     "iopub.status.busy": "2024-02-15T10:36:00.645673Z",
     "iopub.status.idle": "2024-02-15T10:36:00.893005Z",
     "shell.execute_reply": "2024-02-15T10:36:00.89172Z",
     "shell.execute_reply.started": "2024-02-15T10:36:00.645988Z"
    },
    "jupyter": {
     "outputs_hidden": true
    }
   },
   "outputs": [],
   "source": [
    "# MonthlyCharges\n",
    "\n",
    "fig, ax1= plt.subplots(figsize=(6,6),dpi=150)\n",
    "\n",
    "shp_plt = shap.dependence_plot(\"MonthlyCharges\", shap_values_cat_test,X_test,ax=ax1, interaction_index=None)"
   ]
  },
  {
   "cell_type": "code",
   "execution_count": null,
   "metadata": {
    "execution": {
     "iopub.execute_input": "2024-02-15T10:36:00.897733Z",
     "iopub.status.busy": "2024-02-15T10:36:00.897335Z",
     "iopub.status.idle": "2024-02-15T10:36:01.32388Z"
    }
   },
   "outputs": [],
   "source": [
    "# Tenure - Contract Churn\n",
    "\n",
    "fig, ax3 = plt.subplots(figsize=(6,6),dpi=200)\n",
    "shp_plt = shap.dependence_plot(\"tenure\", shap_values_cat_test, X_test, interaction_index=\"Contract\", ax=ax3, cmap=plt.get_cmap('autumn'))"
   ]
  },
  {
   "cell_type": "code",
   "execution_count": null,
   "metadata": {
    "execution": {
     "iopub.execute_input": "2024-02-15T10:36:01.326004Z",
     "iopub.status.busy": "2024-02-15T10:36:01.32558Z"
    }
   },
   "outputs": [],
   "source": [
    "fig = plt.subplots(figsize=(6,6),dpi=200)\n",
    "ax_1= shap.decision_plot(explainercat.expected_value, shap_values_cat_test[:50], X_test.iloc[:50],a uto_size_plot=False, link= \"logit\")"
   ]
  },
  {
   "cell_type": "code",
   "execution_count": null,
   "metadata": {
    "execution": {
     "iopub.execute_input": "2024-02-16T09:38:54.676683Z",
     "iopub.status.busy": "2024-02-16T09:38:54.676195Z",
     "iopub.status.idle": "2024-02-16T09:38:55.512759Z",
     "shell.execute_reply": "2024-02-16T09:38:55.511271Z",
     "shell.execute_reply.started": "2024-02-16T09:38:54.676648Z"
    }
   },
   "outputs": [],
   "source": [
    "# Customer Specific Cases: Customer 13 and Customer 64\n",
    "\n",
    "# X_test.iloc[13]\n",
    "\n",
    "fig = plt.subplots(figsize=(6,6),dpi=200)\n",
    "ax_2= shap.decision_plot(explainercat.expected_value, shap_values_cat_test[13], X_test.iloc[[13]], link= \"logit\")"
   ]
  },
  {
   "cell_type": "code",
   "execution_count": null,
   "metadata": {
    "execution": {
     "iopub.execute_input": "2024-02-16T09:39:04.803814Z",
     "iopub.status.busy": "2024-02-16T09:39:04.80326Z",
     "iopub.status.idle": "2024-02-16T09:39:04.8115Z",
     "shell.execute_reply": "2024-02-16T09:39:04.80969Z",
     "shell.execute_reply.started": "2024-02-16T09:39:04.803773Z"
    }
   },
   "outputs": [],
   "source": [
    "# Let's see our model prediction on the customer 15:\n",
    "\n",
    "print(f'Customer 13: Actual value for the Customer Churn : {y_test.iloc[13]}')\n",
    "print(f\"Customer 13: CatBoost Model's prediction for the Customer Churn : {y_pred[13]}\")"
   ]
  },
  {
   "cell_type": "code",
   "execution_count": null,
   "metadata": {
    "execution": {
     "iopub.execute_input": "2024-02-16T09:55:20.733505Z",
     "iopub.status.busy": "2024-02-16T09:55:20.732492Z",
     "iopub.status.idle": "2024-02-16T09:55:20.742788Z",
     "shell.execute_reply": "2024-02-16T09:55:20.741056Z",
     "shell.execute_reply.started": "2024-02-16T09:55:20.733459Z"
    }
   },
   "outputs": [],
   "source": [
    "shap_values_cat_test[64]"
   ]
  },
  {
   "cell_type": "code",
   "execution_count": null,
   "metadata": {
    "execution": {
     "iopub.execute_input": "2024-02-16T09:39:05.175271Z",
     "iopub.status.busy": "2024-02-16T09:39:05.174815Z",
     "iopub.status.idle": "2024-02-16T09:39:05.957133Z",
     "shell.execute_reply": "2024-02-16T09:39:05.955519Z",
     "shell.execute_reply.started": "2024-02-16T09:39:05.175239Z"
    }
   },
   "outputs": [],
   "source": [
    "# X_test.iloc[64]\n",
    "\n",
    "fig = plt.subplots(figsize=(6,6),dpi=200)\n",
    "ax_2= shap.decision_plot(explainercat.expected_value, shap_values_cat_test[64], X_test.iloc[[64]], link= \"logit\")"
   ]
  },
  {
   "cell_type": "code",
   "execution_count": null,
   "metadata": {
    "execution": {
     "iopub.execute_input": "2024-02-16T09:39:06.702309Z",
     "iopub.status.busy": "2024-02-16T09:39:06.701884Z",
     "iopub.status.idle": "2024-02-16T09:39:06.709225Z",
     "shell.execute_reply": "2024-02-16T09:39:06.708057Z",
     "shell.execute_reply.started": "2024-02-16T09:39:06.702279Z"
    }
   },
   "outputs": [],
   "source": [
    "print(f'Customer 64: Actual value for the Customer Churn : {y_test.iloc[64]}')\n",
    "print(f\"Customer 64: CatBoost Model's prediction for the Customer Churn : {y_pred[64]}\")"
   ]
  },
  {
   "cell_type": "code",
   "execution_count": null,
   "metadata": {
    "execution": {
     "iopub.execute_input": "2024-02-16T09:39:07.039558Z",
     "iopub.status.busy": "2024-02-16T09:39:07.038772Z",
     "iopub.status.idle": "2024-02-16T09:39:07.096404Z",
     "shell.execute_reply": "2024-02-16T09:39:07.094774Z",
     "shell.execute_reply.started": "2024-02-16T09:39:07.039517Z"
    }
   },
   "outputs": [],
   "source": [
    "# SHAP FORCE PLOT\n",
    "\n",
    "shap.initjs()\n",
    "shap.force_plot(explainercat.expected_value, shap_values_cat_test[:75], X_test.iloc[:75],link= \"logit\")"
   ]
  },
  {
   "cell_type": "code",
   "execution_count": null,
   "metadata": {
    "execution": {
     "iopub.execute_input": "2024-02-15T10:36:03.681903Z",
     "iopub.status.busy": "2024-02-15T10:36:03.680725Z",
     "iopub.status.idle": "2024-02-15T10:36:04.493051Z",
     "shell.execute_reply": "2024-02-15T10:36:04.491841Z",
     "shell.execute_reply.started": "2024-02-15T10:36:03.681865Z"
    }
   },
   "outputs": [],
   "source": [
    "shap.force_plot(\n",
    "    explainercat.expected_value, \n",
    "    shap_values_cat_test[13], \n",
    "    X_test.iloc[[13]],\n",
    "    matplotlib=True\n",
    ")"
   ]
  },
  {
   "cell_type": "code",
   "execution_count": null,
   "metadata": {
    "execution": {
     "iopub.execute_input": "2024-02-15T10:36:04.499849Z",
     "iopub.status.busy": "2024-02-15T10:36:04.49945Z",
     "iopub.status.idle": "2024-02-15T10:36:05.692998Z",
     "shell.execute_reply": "2024-02-15T10:36:05.691767Z",
     "shell.execute_reply.started": "2024-02-15T10:36:04.499818Z"
    }
   },
   "outputs": [],
   "source": [
    "## Waterfall customer 13\n",
    "\n",
    "fig = plt.subplots(figsize=(6,6),dpi=150)\n",
    "ax_3= shap.plots._waterfall.waterfall_legacy(explainercat.expected_value, shap_values_cat_test[13], feature_names = X_test.columns,max_display = 20)b"
   ]
  },
  {
   "cell_type": "markdown",
   "metadata": {},
   "source": [
    "# XGBOOST"
   ]
  },
  {
   "cell_type": "code",
   "execution_count": null,
   "metadata": {
    "execution": {
     "iopub.execute_input": "2024-02-15T10:36:05.694914Z",
     "iopub.status.busy": "2024-02-15T10:36:05.694481Z",
     "iopub.status.idle": "2024-02-15T10:36:05.774445Z",
     "shell.execute_reply": "2024-02-15T10:36:05.772863Z",
     "shell.execute_reply.started": "2024-02-15T10:36:05.694875Z"
    }
   },
   "outputs": [],
   "source": [
    "df = pd.read_csv(\"/kaggle/input/telco-customer-churn/WA_Fn-UseC_-Telco-Customer-Churn.csv\")\n",
    "df.drop('customerID', axis=1, inplace=True)\n",
    "df['TotalCharges'] = pd.to_numeric(df['TotalCharges'], errors='coerce')\n",
    "df['TotalCharges'].fillna(df['tenure'] * df['MonthlyCharges'], inplace=True)\n",
    "df['SeniorCitizen'] = df['SeniorCitizen'].astype(object)\n",
    "\n",
    "df['MultipleLines'] = df['MultipleLines'].replace('No phone service','No')\n",
    "columns_to_replace = ['OnlineSecurity', 'OnlineBackup', 'DeviceProtection', 'TechSupport', 'StreamingTV', 'StreamingMovies']\n",
    "for column in columns_to_replace:\n",
    "    df[column] = df[column].replace('No internet service', 'No')\n",
    "    \n",
    "# Changing categorical variables to numeric:\n",
    "df['Churn'] = df['Churn'].replace({'No': 0, 'Yes': 1})"
   ]
  },
  {
   "cell_type": "code",
   "execution_count": null,
   "metadata": {
    "execution": {
     "iopub.execute_input": "2024-02-15T10:36:05.776142Z",
     "iopub.status.busy": "2024-02-15T10:36:05.775808Z",
     "iopub.status.idle": "2024-02-15T10:36:06.083256Z",
     "shell.execute_reply": "2024-02-15T10:36:06.082343Z",
     "shell.execute_reply.started": "2024-02-15T10:36:05.776111Z"
    }
   },
   "outputs": [],
   "source": [
    "# OrdinalEncoder\n",
    "encoder = OrdinalEncoder()\n",
    "categorical_columns = df.select_dtypes(include=['object']).columns.tolist()\n",
    "\n",
    "X = df.drop('Churn', axis=1).copy()\n",
    "y = df['Churn'].copy()\n",
    "\n",
    "X_train, X_test, y_train, y_test = train_test_split(X, y, test_size=0.2, random_state=42)\n",
    "\n",
    "# Encode categorical columns in Train data\n",
    "X_train_encoded = encoder.fit_transform(X_train[categorical_columns])\n",
    "\n",
    "# Encode categorical columns in test data (no fit, only transform)\n",
    "X_test_encoded = encoder.transform(X_test[categorical_columns])\n",
    "\n",
    "X_train_encoded_df = pd.DataFrame(X_train_encoded, columns=categorical_columns)\n",
    "X_test_encoded_df = pd.DataFrame(X_test_encoded, columns=categorical_columns)\n",
    "\n",
    "xgb = XGBClassifier(random_state=0,scale_pos_weight=3)\n",
    "\n",
    "xgb.fit(X_train_encoded_df, y_train)\n",
    "y_pred = xgb.predict(X_test_encoded_df)\n",
    "\n",
    "accuracy, recall, roc_auc, precision = [round(metric(y_test, y_pred), 4) for metric in [accuracy_score, recall_score, roc_auc_score, precision_score]]\n",
    "\n",
    "model_names = ['XGBoost_adjusted_weight_3']\n",
    "result_df3 = pd.DataFrame({'Accuracy':accuracy,'Recall':recall, 'Roc_Auc':roc_auc, 'Precision':precision}, index=model_names)\n",
    "result_df3\n"
   ]
  },
  {
   "cell_type": "code",
   "execution_count": null,
   "metadata": {
    "execution": {
     "iopub.execute_input": "2024-02-15T10:36:06.084909Z",
     "iopub.status.busy": "2024-02-15T10:36:06.084361Z",
     "iopub.status.idle": "2024-02-15T10:36:06.457097Z",
     "shell.execute_reply": "2024-02-15T10:36:06.455812Z",
     "shell.execute_reply.started": "2024-02-15T10:36:06.084879Z"
    }
   },
   "outputs": [],
   "source": [
    "plot_importance(xgb)\n",
    "plt.show()"
   ]
  },
  {
   "cell_type": "markdown",
   "metadata": {},
   "source": [
    "# LIME"
   ]
  },
  {
   "cell_type": "code",
   "execution_count": null,
   "metadata": {
    "execution": {
     "iopub.execute_input": "2024-02-15T10:36:06.459117Z",
     "iopub.status.busy": "2024-02-15T10:36:06.458422Z",
     "iopub.status.idle": "2024-02-15T10:36:07.024624Z",
     "shell.execute_reply": "2024-02-15T10:36:07.022951Z",
     "shell.execute_reply.started": "2024-02-15T10:36:06.459075Z"
    }
   },
   "outputs": [],
   "source": [
    "explainer = lime.lime_tabular.LimeTabularExplainer(X_train_encoded_df.values, feature_names=X_train_encoded_df.columns.values.tolist(),\n",
    "                                                  class_names=['Churn'], verbose=True, mode='classification')\n",
    "\n",
    "# Choose the jth instance and use it to predict the results for that selection\n",
    "j = 13\n",
    "exp = explainer.explain_instance(X_train_encoded_df.values[j], xgb.predict_proba, num_features=5)"
   ]
  },
  {
   "cell_type": "code",
   "execution_count": null,
   "metadata": {
    "execution": {
     "iopub.execute_input": "2024-02-15T10:36:07.038061Z",
     "iopub.status.busy": "2024-02-15T10:36:07.032757Z",
     "iopub.status.idle": "2024-02-15T10:36:07.133845Z",
     "shell.execute_reply": "2024-02-15T10:36:07.132157Z",
     "shell.execute_reply.started": "2024-02-15T10:36:07.037982Z"
    }
   },
   "outputs": [],
   "source": [
    "exp.show_in_notebook(show_table=True)"
   ]
  },
  {
   "cell_type": "code",
   "execution_count": null,
   "metadata": {},
   "outputs": [],
   "source": []
  }
 ],
 "metadata": {
  "kaggle": {
   "accelerator": "none",
   "dataSources": [
    {
     "datasetId": 13996,
     "sourceId": 18858,
     "sourceType": "datasetVersion"
    }
   ],
   "dockerImageVersionId": 30646,
   "isGpuEnabled": false,
   "isInternetEnabled": false,
   "language": "python",
   "sourceType": "notebook"
  },
  "kernelspec": {
   "display_name": "Python 3 (ipykernel)",
   "language": "python",
   "name": "python3"
  },
  "language_info": {
   "codemirror_mode": {
    "name": "ipython",
    "version": 3
   },
   "file_extension": ".py",
   "mimetype": "text/x-python",
   "name": "python",
   "nbconvert_exporter": "python",
   "pygments_lexer": "ipython3",
   "version": "3.11.5"
  }
 },
 "nbformat": 4,
 "nbformat_minor": 4
}
