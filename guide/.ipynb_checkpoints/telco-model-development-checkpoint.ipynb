{
 "cells": [
  {
   "cell_type": "markdown",
   "metadata": {},
   "source": [
    "# TELCO CUSTOMER CHURN XGBoost + CatBoost / SHAP + LIME"
   ]
  },
  {
   "cell_type": "markdown",
   "metadata": {},
   "source": [
    "**For EDA you can visit this notebook: https://www.kaggle.com/code/rolmez/telco-customer-churn-eda**"
   ]
  },
  {
   "cell_type": "markdown",
   "metadata": {},
   "source": [
    "## Import Libraries"
   ]
  },
  {
   "cell_type": "code",
   "execution_count": null,
   "metadata": {
    "execution": {
     "iopub.execute_input": "2024-02-16T09:18:26.514477Z",
     "iopub.status.busy": "2024-02-16T09:18:26.513811Z",
     "iopub.status.idle": "2024-02-16T09:18:36.13785Z",
     "shell.execute_reply": "2024-02-16T09:18:36.136838Z",
     "shell.execute_reply.started": "2024-02-16T09:18:26.514433Z"
    }
   },
   "outputs": [],
   "source": [
    "import numpy as np # linear algebra\n",
    "import pandas as pd # data processing, CSV file I/O (e.g. pd.read_csv)\n",
    "import joblib\n",
    "\n",
    "import seaborn as sns\n",
    "import matplotlib.pyplot as plt\n",
    "\n",
    "import os\n",
    "for dirname, _, filenames in os.walk('/kaggle/input'):\n",
    "    for filename in filenames:\n",
    "        print(os.path.join(dirname, filename))\n",
    "        \n",
    "from sklearn import metrics\n",
    "from sklearn.model_selection import train_test_split, StratifiedShuffleSplit\n",
    "from sklearn.metrics import accuracy_score,classification_report, recall_score,confusion_matrix, roc_auc_score, precision_score, f1_score, roc_curve, auc\n",
    "from sklearn.preprocessing import OrdinalEncoder\n",
    "\n",
    "from catboost import CatBoostClassifier, Pool\n",
    "from xgboost import XGBClassifier, plot_importance\n",
    "\n",
    "import shap\n",
    "import lime\n",
    "import lime.lime_tabular"
   ]
  },
  {
   "cell_type": "markdown",
   "metadata": {},
   "source": [
    "## Data Organization"
   ]
  },
  {
   "cell_type": "code",
   "execution_count": null,
   "metadata": {
    "execution": {
     "iopub.execute_input": "2024-02-16T09:18:36.140856Z",
     "iopub.status.busy": "2024-02-16T09:18:36.139916Z",
     "iopub.status.idle": "2024-02-16T09:18:36.271657Z",
     "shell.execute_reply": "2024-02-16T09:18:36.270151Z",
     "shell.execute_reply.started": "2024-02-16T09:18:36.140812Z"
    }
   },
   "outputs": [],
   "source": [
    "df = pd.read_csv(\"/kaggle/input/telco-customer-churn/WA_Fn-UseC_-Telco-Customer-Churn.csv\")\n",
    "df.info()"
   ]
  },
  {
   "cell_type": "code",
   "execution_count": null,
   "metadata": {
    "execution": {
     "iopub.execute_input": "2024-02-16T09:18:36.274771Z",
     "iopub.status.busy": "2024-02-16T09:18:36.273798Z",
     "iopub.status.idle": "2024-02-16T09:18:36.357109Z",
     "shell.execute_reply": "2024-02-16T09:18:36.355645Z",
     "shell.execute_reply.started": "2024-02-16T09:18:36.274726Z"
    }
   },
   "outputs": [],
   "source": [
    "categorical_columns = df.select_dtypes(include=['object', 'category'])\n",
    "for feature in categorical_columns:\n",
    "    print(f\"Column: {feature} -> {df[feature].unique()}\")\n",
    "    print(f\"Unique Number: {df[feature].nunique()}\")\n",
    "    print(f\"{df[feature].value_counts()} \\n\")"
   ]
  },
  {
   "cell_type": "code",
   "execution_count": null,
   "metadata": {
    "execution": {
     "iopub.execute_input": "2024-02-15T10:35:44.996061Z",
     "iopub.status.busy": "2024-02-15T10:35:44.995697Z",
     "iopub.status.idle": "2024-02-15T10:35:45.022873Z",
     "shell.execute_reply": "2024-02-15T10:35:45.021485Z",
     "shell.execute_reply.started": "2024-02-15T10:35:44.996031Z"
    }
   },
   "outputs": [],
   "source": [
    "df.isnull().sum()"
   ]
  },
  {
   "cell_type": "markdown",
   "metadata": {},
   "source": [
    "* *We need to drop the custoemerID column that each customer has unique, but I will leave it this way because I will use this value in my future applications. And make the TotalCharges variable numeric. We know from the EDA notebook that the TotalCharges variable has 11 empty values. Let's statistically fill these values using tenure and MonthlyCharges variables.*\n",
    "* *In MultipleLines, OnlineSecurity, OnlineBackup, DeviceProtection, TechSupport, StreamingTV and StreamingMovies variables 'No' and 'No internet-phone service' are used repeatedly although they mean the same thing. These need to be merged during the model development phase.*"
   ]
  },
  {
   "cell_type": "code",
   "execution_count": null,
   "metadata": {
    "execution": {
     "iopub.execute_input": "2024-02-16T09:18:36.360024Z",
     "iopub.status.busy": "2024-02-16T09:18:36.359662Z",
     "iopub.status.idle": "2024-02-16T09:18:36.396659Z",
     "shell.execute_reply": "2024-02-16T09:18:36.395447Z",
     "shell.execute_reply.started": "2024-02-16T09:18:36.359994Z"
    }
   },
   "outputs": [],
   "source": [
    "df['TotalCharges'] = pd.to_numeric(df['TotalCharges'], errors='coerce')\n",
    "df['TotalCharges'].fillna(df['tenure'] * df['MonthlyCharges'], inplace=True)\n",
    "df['SeniorCitizen'] = df['SeniorCitizen'].astype(object)\n",
    "\n",
    "df['MultipleLines'] = df['MultipleLines'].replace('No phone service','No')\n",
    "columns_to_replace = ['OnlineSecurity', 'OnlineBackup', 'DeviceProtection', 'TechSupport', 'StreamingTV', 'StreamingMovies']\n",
    "for column in columns_to_replace:\n",
    "    df[column] = df[column].replace('No internet service', 'No')\n",
    "    \n",
    "# Changing categorical variables to numeric:\n",
    "df['Churn'] = df['Churn'].replace({'No': 0, 'Yes': 1})"
   ]
  },
  {
   "cell_type": "code",
   "execution_count": null,
   "metadata": {
    "execution": {
     "iopub.execute_input": "2024-02-16T07:51:47.933467Z",
     "iopub.status.busy": "2024-02-16T07:51:47.932978Z",
     "iopub.status.idle": "2024-02-16T07:51:48.04031Z",
     "shell.execute_reply": "2024-02-16T07:51:48.039014Z",
     "shell.execute_reply.started": "2024-02-16T07:51:47.933417Z"
    }
   },
   "outputs": [],
   "source": [
    "# Save the edited data\n",
    "df.to_parquet('churn_data_regulated.parquet')"
   ]
  },
  {
   "cell_type": "markdown",
   "metadata": {},
   "source": [
    "## Preparation of Data for the CatBoost Model"
   ]
  },
  {
   "cell_type": "markdown",
   "metadata": {},
   "source": [
    "Telco dataset is an unbalanced data set. We need to maintain the balance ratio when splitting this dataset into training and test sets. Let's use StratifiedShuffleSplit to maintain this ratio."
   ]
  },
  {
   "cell_type": "code",
   "execution_count": null,
   "metadata": {
    "execution": {
     "iopub.execute_input": "2024-02-16T09:18:40.935189Z",
     "iopub.status.busy": "2024-02-16T09:18:40.934617Z",
     "iopub.status.idle": "2024-02-16T09:18:40.980051Z",
     "shell.execute_reply": "2024-02-16T09:18:40.978914Z",
     "shell.execute_reply.started": "2024-02-16T09:18:40.935148Z"
    }
   },
   "outputs": [],
   "source": [
    "# Create the StratifiedShuffleSplit object\n",
    "strat_split = StratifiedShuffleSplit(n_splits=1, test_size=0.2, random_state=64)\n",
    "\n",
    "train_index, test_index = next(strat_split.split(df, df[\"Churn\"]))\n",
    "\n",
    "# Create train and test sets\n",
    "strat_train_set = df.loc[train_index]\n",
    "strat_test_set = df.loc[test_index]\n",
    "\n",
    "# Proportion of the target variable in the original data set\n",
    "print('Target Labels Ratio in Original Dataset\\n')\n",
    "print(df[\"Churn\"].value_counts(normalize=True).sort_index())\n",
    "\n",
    "# Proportion of the target variable in the test set\n",
    "print('\\nTarget Labels Ratio in Test Dataset\\n')\n",
    "print(strat_test_set[\"Churn\"].value_counts(normalize=True).sort_index())\n",
    "\n",
    "X_train = strat_train_set.drop(\"Churn\", axis=1)\n",
    "y_train = strat_train_set[\"Churn\"].copy()\n",
    "\n",
    "X_test = strat_test_set.drop(\"Churn\", axis=1)\n",
    "y_test = strat_test_set[\"Churn\"].copy()"
   ]
  },
  {
   "cell_type": "code",
   "execution_count": null,
   "metadata": {
    "execution": {
     "iopub.execute_input": "2024-02-16T09:18:41.830374Z",
     "iopub.status.busy": "2024-02-16T09:18:41.829807Z",
     "iopub.status.idle": "2024-02-16T09:18:41.871926Z",
     "shell.execute_reply": "2024-02-16T09:18:41.870403Z",
     "shell.execute_reply.started": "2024-02-16T09:18:41.830301Z"
    }
   },
   "outputs": [],
   "source": [
    "# Save the datasets\n",
    "joblib.dump(X_train, 'X_train.pkl')\n",
    "joblib.dump(y_train, 'y_train.pkl')\n",
    "joblib.dump(X_test, 'X_test.pkl')\n",
    "joblib.dump(y_test, 'y_test.pkl')"
   ]
  },
  {
   "cell_type": "markdown",
   "metadata": {},
   "source": [
    "## CatBoost Model"
   ]
  },
  {
   "cell_type": "code",
   "execution_count": null,
   "metadata": {
    "execution": {
     "iopub.execute_input": "2024-02-16T09:38:26.499713Z",
     "iopub.status.busy": "2024-02-16T09:38:26.499222Z",
     "iopub.status.idle": "2024-02-16T09:38:39.326035Z",
     "shell.execute_reply": "2024-02-16T09:38:39.324549Z",
     "shell.execute_reply.started": "2024-02-16T09:38:26.49968Z"
    }
   },
   "outputs": [],
   "source": [
    "categorical_columns = df.select_dtypes(include=['object']).columns.tolist()\n",
    "\n",
    "cat_model = CatBoostClassifier(verbose=False, random_state=0, scale_pos_weight=3)\n",
    "\n",
    "cat_model.fit(X_train, y_train, cat_features=categorical_columns, eval_set=(X_test, y_test))\n",
    "\n",
    "y_pred = cat_model.predict(X_test)\n",
    "\n",
    "accuracy, recall, roc_auc, precision = [round(metric(y_test, y_pred), 4) for metric in [accuracy_score, recall_score, roc_auc_score, precision_score]]\n",
    "\n",
    "model_names = ['CatBoost_Model']\n",
    "\n",
    "result = pd.DataFrame({'Accuracy':accuracy,\n",
    "                       'Recall':recall, \n",
    "                       'Roc_Auc':roc_auc, \n",
    "                       'Precision':precision}, index=model_names)\n",
    "\n",
    "result"
   ]
  },
  {
   "cell_type": "code",
   "execution_count": null,
   "metadata": {
    "execution": {
     "iopub.execute_input": "2024-02-15T10:35:56.422941Z",
     "iopub.status.busy": "2024-02-15T10:35:56.422586Z",
     "iopub.status.idle": "2024-02-15T10:35:56.438705Z",
     "shell.execute_reply": "2024-02-15T10:35:56.43721Z",
     "shell.execute_reply.started": "2024-02-15T10:35:56.42291Z"
    }
   },
   "outputs": [],
   "source": [
    "cat_model.save_model('cat_model.cbm')"
   ]
  },
  {
   "cell_type": "code",
   "execution_count": null,
   "metadata": {
    "execution": {
     "iopub.execute_input": "2024-02-16T09:38:39.330611Z",
     "iopub.status.busy": "2024-02-16T09:38:39.328478Z",
     "iopub.status.idle": "2024-02-16T09:38:39.412907Z",
     "shell.execute_reply": "2024-02-16T09:38:39.411437Z",
     "shell.execute_reply.started": "2024-02-16T09:38:39.330553Z"
    }
   },
   "outputs": [],
   "source": [
    "pool = Pool(X_train, y_train, cat_features=categorical_columns)\n",
    "\n",
    "feature_importance = pd.DataFrame({'feature_importance': cat_model.get_feature_importance(pool), \n",
    "                      'feature_names': X_train.columns}).sort_values(by=['feature_importance'], \n",
    "                                                           ascending=False)\n",
    "\n",
    "feature_importance"
   ]
  },
  {
   "cell_type": "code",
   "execution_count": null,
   "metadata": {
    "execution": {
     "iopub.execute_input": "2024-02-16T09:38:39.414904Z",
     "iopub.status.busy": "2024-02-16T09:38:39.414551Z",
     "iopub.status.idle": "2024-02-16T09:38:39.838977Z",
     "shell.execute_reply": "2024-02-16T09:38:39.837609Z",
     "shell.execute_reply.started": "2024-02-16T09:38:39.414875Z"
    }
   },
   "outputs": [],
   "source": [
    "plt.figure(figsize=(10,10))\n",
    "sns.barplot(x=feature_importance['feature_importance'], y=feature_importance['feature_names'], palette = 'rocket')\n",
    "plt.show()"
   ]
  },
  {
   "cell_type": "code",
   "execution_count": null,
   "metadata": {
    "execution": {
     "iopub.execute_input": "2024-02-16T09:38:39.842285Z",
     "iopub.status.busy": "2024-02-16T09:38:39.84192Z",
     "iopub.status.idle": "2024-02-16T09:38:40.09611Z",
     "shell.execute_reply": "2024-02-16T09:38:40.094936Z",
     "shell.execute_reply.started": "2024-02-16T09:38:39.842257Z"
    }
   },
   "outputs": [],
   "source": [
    "cat_confusion_matrix = metrics.confusion_matrix(y_test, y_pred)\n",
    "sns.heatmap(cat_confusion_matrix, annot=True, fmt=\"d\")\n",
    "\n",
    "plt.xlabel(\"Predicted Label\", fontsize= 12)\n",
    "plt.ylabel(\"True Label\", fontsize= 12)\n",
    "\n",
    "plt.show()"
   ]
  },
  {
   "cell_type": "code",
   "execution_count": null,
   "metadata": {
    "execution": {
     "iopub.execute_input": "2024-02-16T09:38:40.097788Z",
     "iopub.status.busy": "2024-02-16T09:38:40.09744Z",
     "iopub.status.idle": "2024-02-16T09:38:40.119116Z",
     "shell.execute_reply": "2024-02-16T09:38:40.11767Z",
     "shell.execute_reply.started": "2024-02-16T09:38:40.097759Z"
    }
   },
   "outputs": [],
   "source": [
    "print(metrics.classification_report(y_test, y_pred, labels = [0, 1]))"
   ]
  },
  {
   "cell_type": "markdown",
   "metadata": {},
   "source": [
    "# SHAP"
   ]
  },
  {
   "cell_type": "code",
   "execution_count": null,
   "metadata": {
    "execution": {
     "iopub.execute_input": "2024-02-16T09:38:40.121067Z",
     "iopub.status.busy": "2024-02-16T09:38:40.120702Z",
     "iopub.status.idle": "2024-02-16T09:38:40.914283Z",
     "shell.execute_reply": "2024-02-16T09:38:40.912653Z",
     "shell.execute_reply.started": "2024-02-16T09:38:40.121038Z"
    }
   },
   "outputs": [],
   "source": [
    "explainercat = shap.TreeExplainer(cat_model)\n",
    "shap_values_cat_train = explainercat.shap_values(X_train)\n",
    "shap_values_cat_test = explainercat.shap_values(X_test)"
   ]
  },
  {
   "cell_type": "code",
   "execution_count": null,
   "metadata": {
    "execution": {
     "iopub.execute_input": "2024-02-16T09:38:40.916558Z",
     "iopub.status.busy": "2024-02-16T09:38:40.916148Z",
     "iopub.status.idle": "2024-02-16T09:38:41.358391Z",
     "shell.execute_reply": "2024-02-16T09:38:41.357114Z",
     "shell.execute_reply.started": "2024-02-16T09:38:40.916527Z"
    }
   },
   "outputs": [],
   "source": [
    "shap.summary_plot(shap_values_cat_train, X_train, plot_type=\"bar\",plot_size=(12,12))"
   ]
  },
  {
   "cell_type": "code",
   "execution_count": null,
   "metadata": {
    "execution": {
     "iopub.execute_input": "2024-02-16T09:38:41.360408Z",
     "iopub.status.busy": "2024-02-16T09:38:41.360003Z",
     "iopub.status.idle": "2024-02-16T09:38:43.277178Z",
     "shell.execute_reply": "2024-02-16T09:38:43.275949Z",
     "shell.execute_reply.started": "2024-02-16T09:38:41.360375Z"
    }
   },
   "outputs": [],
   "source": [
    "# summarize the effects of all the features\n",
    "\n",
    "fig = plt.subplots(figsize=(6,6),dpi=200)\n",
    "\n",
    "ax = shap.summary_plot(shap_values_cat_train, X_train,plot_type=\"dot\")"
   ]
  },
  {
   "cell_type": "code",
   "execution_count": null,
   "metadata": {
    "execution": {
     "iopub.execute_input": "2024-02-16T09:38:43.279499Z",
     "iopub.status.busy": "2024-02-16T09:38:43.279097Z",
     "iopub.status.idle": "2024-02-16T09:38:43.465998Z",
     "shell.execute_reply": "2024-02-16T09:38:43.464934Z",
     "shell.execute_reply.started": "2024-02-16T09:38:43.279467Z"
    }
   },
   "outputs": [],
   "source": [
    "# Contract\n",
    "\n",
    "fig, ax= plt.subplots(figsize=(6,6),dpi=100)\n",
    "shp_plt = shap.dependence_plot(\"Contract\", shap_values_cat_test, X_test,ax=ax,interaction_index=None)"
   ]
  },
  {
   "cell_type": "code",
   "execution_count": null,
   "metadata": {
    "collapsed": true,
    "execution": {
     "iopub.execute_input": "2024-02-16T09:38:43.4699Z",
     "iopub.status.busy": "2024-02-16T09:38:43.46892Z",
     "iopub.status.idle": "2024-02-16T09:38:43.657674Z",
     "shell.execute_reply": "2024-02-16T09:38:43.656608Z",
     "shell.execute_reply.started": "2024-02-16T09:38:43.469858Z"
    },
    "jupyter": {
     "outputs_hidden": true
    }
   },
   "outputs": [],
   "source": [
    "# Internet Service\n",
    "\n",
    "fig, ax= plt.subplots(figsize=(6,6),dpi=100)\n",
    "\n",
    "shap.dependence_plot(\"InternetService\", shap_values_cat_test, X_test,ax=ax, interaction_index=None)"
   ]
  },
  {
   "cell_type": "code",
   "execution_count": null,
   "metadata": {
    "collapsed": true,
    "execution": {
     "iopub.execute_input": "2024-02-15T10:36:00.64602Z",
     "iopub.status.busy": "2024-02-15T10:36:00.645673Z",
     "iopub.status.idle": "2024-02-15T10:36:00.893005Z",
     "shell.execute_reply": "2024-02-15T10:36:00.89172Z",
     "shell.execute_reply.started": "2024-02-15T10:36:00.645988Z"
    },
    "jupyter": {
     "outputs_hidden": true
    }
   },
   "outputs": [],
   "source": [
    "# MonthlyCharges\n",
    "\n",
    "fig, ax1= plt.subplots(figsize=(6,6),dpi=150)\n",
    "\n",
    "shp_plt = shap.dependence_plot(\"MonthlyCharges\", shap_values_cat_test,X_test,ax=ax1, interaction_index=None)"
   ]
  },
  {
   "cell_type": "code",
   "execution_count": null,
   "metadata": {
    "execution": {
     "iopub.execute_input": "2024-02-15T10:36:00.897733Z",
     "iopub.status.busy": "2024-02-15T10:36:00.897335Z",
     "iopub.status.idle": "2024-02-15T10:36:01.32388Z"
    }
   },
   "outputs": [],
   "source": [
    "# Tenure - Contract Churn\n",
    "\n",
    "fig, ax3 = plt.subplots(figsize=(6,6),dpi=200)\n",
    "shp_plt = shap.dependence_plot(\"tenure\", shap_values_cat_test, X_test, interaction_index=\"Contract\", ax=ax3, cmap=plt.get_cmap('autumn'))"
   ]
  },
  {
   "cell_type": "code",
   "execution_count": null,
   "metadata": {
    "execution": {
     "iopub.execute_input": "2024-02-15T10:36:01.326004Z",
     "iopub.status.busy": "2024-02-15T10:36:01.32558Z"
    }
   },
   "outputs": [],
   "source": [
    "fig = plt.subplots(figsize=(6,6),dpi=200)\n",
    "ax_1= shap.decision_plot(explainercat.expected_value, shap_values_cat_test[:50], X_test.iloc[:50],auto_size_plot=False, link= \"logit\")"
   ]
  },
  {
   "cell_type": "code",
   "execution_count": null,
   "metadata": {
    "execution": {
     "iopub.execute_input": "2024-02-16T09:38:54.676683Z",
     "iopub.status.busy": "2024-02-16T09:38:54.676195Z",
     "iopub.status.idle": "2024-02-16T09:38:55.512759Z",
     "shell.execute_reply": "2024-02-16T09:38:55.511271Z",
     "shell.execute_reply.started": "2024-02-16T09:38:54.676648Z"
    }
   },
   "outputs": [],
   "source": [
    "# Customer Specific Cases: Customer 13 and Customer 64\n",
    "\n",
    "# X_test.iloc[13]\n",
    "\n",
    "fig = plt.subplots(figsize=(6,6),dpi=200)\n",
    "ax_2= shap.decision_plot(explainercat.expected_value, shap_values_cat_test[13], X_test.iloc[[13]], link= \"logit\")"
   ]
  },
  {
   "cell_type": "code",
   "execution_count": null,
   "metadata": {
    "execution": {
     "iopub.execute_input": "2024-02-16T09:39:04.803814Z",
     "iopub.status.busy": "2024-02-16T09:39:04.80326Z",
     "iopub.status.idle": "2024-02-16T09:39:04.8115Z",
     "shell.execute_reply": "2024-02-16T09:39:04.80969Z",
     "shell.execute_reply.started": "2024-02-16T09:39:04.803773Z"
    }
   },
   "outputs": [],
   "source": [
    "# Let's see our model prediction on the customer 15:\n",
    "\n",
    "print(f'Customer 13: Actual value for the Customer Churn : {y_test.iloc[13]}')\n",
    "print(f\"Customer 13: CatBoost Model's prediction for the Customer Churn : {y_pred[13]}\")"
   ]
  },
  {
   "cell_type": "code",
   "execution_count": null,
   "metadata": {
    "execution": {
     "iopub.execute_input": "2024-02-16T09:55:20.733505Z",
     "iopub.status.busy": "2024-02-16T09:55:20.732492Z",
     "iopub.status.idle": "2024-02-16T09:55:20.742788Z",
     "shell.execute_reply": "2024-02-16T09:55:20.741056Z",
     "shell.execute_reply.started": "2024-02-16T09:55:20.733459Z"
    }
   },
   "outputs": [],
   "source": [
    "shap_values_cat_test[64]"
   ]
  },
  {
   "cell_type": "code",
   "execution_count": null,
   "metadata": {
    "execution": {
     "iopub.execute_input": "2024-02-16T09:39:05.175271Z",
     "iopub.status.busy": "2024-02-16T09:39:05.174815Z",
     "iopub.status.idle": "2024-02-16T09:39:05.957133Z",
     "shell.execute_reply": "2024-02-16T09:39:05.955519Z",
     "shell.execute_reply.started": "2024-02-16T09:39:05.175239Z"
    }
   },
   "outputs": [],
   "source": [
    "# X_test.iloc[64]\n",
    "\n",
    "fig = plt.subplots(figsize=(6,6),dpi=200)\n",
    "ax_2= shap.decision_plot(explainercat.expected_value, shap_values_cat_test[64], X_test.iloc[[64]], link= \"logit\")"
   ]
  },
  {
   "cell_type": "code",
   "execution_count": null,
   "metadata": {
    "execution": {
     "iopub.execute_input": "2024-02-16T09:39:06.702309Z",
     "iopub.status.busy": "2024-02-16T09:39:06.701884Z",
     "iopub.status.idle": "2024-02-16T09:39:06.709225Z",
     "shell.execute_reply": "2024-02-16T09:39:06.708057Z",
     "shell.execute_reply.started": "2024-02-16T09:39:06.702279Z"
    }
   },
   "outputs": [],
   "source": [
    "print(f'Customer 64: Actual value for the Customer Churn : {y_test.iloc[64]}')\n",
    "print(f\"Customer 64: CatBoost Model's prediction for the Customer Churn : {y_pred[64]}\")"
   ]
  },
  {
   "cell_type": "code",
   "execution_count": null,
   "metadata": {
    "execution": {
     "iopub.execute_input": "2024-02-16T09:39:07.039558Z",
     "iopub.status.busy": "2024-02-16T09:39:07.038772Z",
     "iopub.status.idle": "2024-02-16T09:39:07.096404Z",
     "shell.execute_reply": "2024-02-16T09:39:07.094774Z",
     "shell.execute_reply.started": "2024-02-16T09:39:07.039517Z"
    }
   },
   "outputs": [],
   "source": [
    "# SHAP FORCE PLOT\n",
    "\n",
    "shap.initjs()\n",
    "shap.force_plot(explainercat.expected_value, shap_values_cat_test[:75], X_test.iloc[:75],link= \"logit\")"
   ]
  },
  {
   "cell_type": "code",
   "execution_count": null,
   "metadata": {
    "execution": {
     "iopub.execute_input": "2024-02-15T10:36:03.681903Z",
     "iopub.status.busy": "2024-02-15T10:36:03.680725Z",
     "iopub.status.idle": "2024-02-15T10:36:04.493051Z",
     "shell.execute_reply": "2024-02-15T10:36:04.491841Z",
     "shell.execute_reply.started": "2024-02-15T10:36:03.681865Z"
    }
   },
   "outputs": [],
   "source": [
    "shap.force_plot(\n",
    "    explainercat.expected_value, \n",
    "    shap_values_cat_test[13], \n",
    "    X_test.iloc[[13]],\n",
    "    matplotlib=True\n",
    ")"
   ]
  },
  {
   "cell_type": "code",
   "execution_count": null,
   "metadata": {
    "execution": {
     "iopub.execute_input": "2024-02-15T10:36:04.499849Z",
     "iopub.status.busy": "2024-02-15T10:36:04.49945Z",
     "iopub.status.idle": "2024-02-15T10:36:05.692998Z",
     "shell.execute_reply": "2024-02-15T10:36:05.691767Z",
     "shell.execute_reply.started": "2024-02-15T10:36:04.499818Z"
    }
   },
   "outputs": [],
   "source": [
    "## Waterfall customer 13\n",
    "\n",
    "fig = plt.subplots(figsize=(6,6),dpi=150)\n",
    "ax_3= shap.plots._waterfall.waterfall_legacy(explainercat.expected_value, shap_values_cat_test[13], feature_names = X_test.columns,max_display = 20)"
   ]
  },
  {
   "cell_type": "markdown",
   "metadata": {},
   "source": [
    "# XGBOOST"
   ]
  },
  {
   "cell_type": "code",
   "execution_count": null,
   "metadata": {
    "execution": {
     "iopub.execute_input": "2024-02-15T10:36:05.694914Z",
     "iopub.status.busy": "2024-02-15T10:36:05.694481Z",
     "iopub.status.idle": "2024-02-15T10:36:05.774445Z",
     "shell.execute_reply": "2024-02-15T10:36:05.772863Z",
     "shell.execute_reply.started": "2024-02-15T10:36:05.694875Z"
    }
   },
   "outputs": [],
   "source": [
    "df = pd.read_csv(\"/kaggle/input/telco-customer-churn/WA_Fn-UseC_-Telco-Customer-Churn.csv\")\n",
    "df.drop('customerID', axis=1, inplace=True)\n",
    "df['TotalCharges'] = pd.to_numeric(df['TotalCharges'], errors='coerce')\n",
    "df['TotalCharges'].fillna(df['tenure'] * df['MonthlyCharges'], inplace=True)\n",
    "df['SeniorCitizen'] = df['SeniorCitizen'].astype(object)\n",
    "\n",
    "df['MultipleLines'] = df['MultipleLines'].replace('No phone service','No')\n",
    "columns_to_replace = ['OnlineSecurity', 'OnlineBackup', 'DeviceProtection', 'TechSupport', 'StreamingTV', 'StreamingMovies']\n",
    "for column in columns_to_replace:\n",
    "    df[column] = df[column].replace('No internet service', 'No')\n",
    "    \n",
    "# Changing categorical variables to numeric:\n",
    "df['Churn'] = df['Churn'].replace({'No': 0, 'Yes': 1})"
   ]
  },
  {
   "cell_type": "code",
   "execution_count": null,
   "metadata": {
    "execution": {
     "iopub.execute_input": "2024-02-15T10:36:05.776142Z",
     "iopub.status.busy": "2024-02-15T10:36:05.775808Z",
     "iopub.status.idle": "2024-02-15T10:36:06.083256Z",
     "shell.execute_reply": "2024-02-15T10:36:06.082343Z",
     "shell.execute_reply.started": "2024-02-15T10:36:05.776111Z"
    }
   },
   "outputs": [],
   "source": [
    "# OrdinalEncoder\n",
    "encoder = OrdinalEncoder()\n",
    "categorical_columns = df.select_dtypes(include=['object']).columns.tolist()\n",
    "\n",
    "X = df.drop('Churn', axis=1).copy()\n",
    "y = df['Churn'].copy()\n",
    "\n",
    "X_train, X_test, y_train, y_test = train_test_split(X, y, test_size=0.2, random_state=42)\n",
    "\n",
    "# Encode categorical columns in Train data\n",
    "X_train_encoded = encoder.fit_transform(X_train[categorical_columns])\n",
    "\n",
    "# Encode categorical columns in test data (no fit, only transform)\n",
    "X_test_encoded = encoder.transform(X_test[categorical_columns])\n",
    "\n",
    "X_train_encoded_df = pd.DataFrame(X_train_encoded, columns=categorical_columns)\n",
    "X_test_encoded_df = pd.DataFrame(X_test_encoded, columns=categorical_columns)\n",
    "\n",
    "xgb = XGBClassifier(random_state=0,scale_pos_weight=3)\n",
    "\n",
    "xgb.fit(X_train_encoded_df, y_train)\n",
    "y_pred = xgb.predict(X_test_encoded_df)\n",
    "\n",
    "accuracy, recall, roc_auc, precision = [round(metric(y_test, y_pred), 4) for metric in [accuracy_score, recall_score, roc_auc_score, precision_score]]\n",
    "\n",
    "model_names = ['XGBoost_adjusted_weight_3']\n",
    "result_df3 = pd.DataFrame({'Accuracy':accuracy,'Recall':recall, 'Roc_Auc':roc_auc, 'Precision':precision}, index=model_names)\n",
    "result_df3\n"
   ]
  },
  {
   "cell_type": "code",
   "execution_count": null,
   "metadata": {
    "execution": {
     "iopub.execute_input": "2024-02-15T10:36:06.084909Z",
     "iopub.status.busy": "2024-02-15T10:36:06.084361Z",
     "iopub.status.idle": "2024-02-15T10:36:06.457097Z",
     "shell.execute_reply": "2024-02-15T10:36:06.455812Z",
     "shell.execute_reply.started": "2024-02-15T10:36:06.084879Z"
    }
   },
   "outputs": [],
   "source": [
    "plot_importance(xgb)\n",
    "plt.show()"
   ]
  },
  {
   "cell_type": "markdown",
   "metadata": {},
   "source": [
    "# LIME"
   ]
  },
  {
   "cell_type": "code",
   "execution_count": null,
   "metadata": {
    "execution": {
     "iopub.execute_input": "2024-02-15T10:36:06.459117Z",
     "iopub.status.busy": "2024-02-15T10:36:06.458422Z",
     "iopub.status.idle": "2024-02-15T10:36:07.024624Z",
     "shell.execute_reply": "2024-02-15T10:36:07.022951Z",
     "shell.execute_reply.started": "2024-02-15T10:36:06.459075Z"
    }
   },
   "outputs": [],
   "source": [
    "explainer = lime.lime_tabular.LimeTabularExplainer(X_train_encoded_df.values, feature_names=X_train_encoded_df.columns.values.tolist(),\n",
    "                                                  class_names=['Churn'], verbose=True, mode='classification')\n",
    "\n",
    "# Choose the jth instance and use it to predict the results for that selection\n",
    "j = 13\n",
    "exp = explainer.explain_instance(X_train_encoded_df.values[j], xgb.predict_proba, num_features=5)"
   ]
  },
  {
   "cell_type": "code",
   "execution_count": null,
   "metadata": {
    "execution": {
     "iopub.execute_input": "2024-02-15T10:36:07.038061Z",
     "iopub.status.busy": "2024-02-15T10:36:07.032757Z",
     "iopub.status.idle": "2024-02-15T10:36:07.133845Z",
     "shell.execute_reply": "2024-02-15T10:36:07.132157Z",
     "shell.execute_reply.started": "2024-02-15T10:36:07.037982Z"
    }
   },
   "outputs": [],
   "source": [
    "exp.show_in_notebook(show_table=True)"
   ]
  },
  {
   "cell_type": "code",
   "execution_count": null,
   "metadata": {},
   "outputs": [],
   "source": []
  }
 ],
 "metadata": {
  "kaggle": {
   "accelerator": "none",
   "dataSources": [
    {
     "datasetId": 13996,
     "sourceId": 18858,
     "sourceType": "datasetVersion"
    }
   ],
   "dockerImageVersionId": 30646,
   "isGpuEnabled": false,
   "isInternetEnabled": false,
   "language": "python",
   "sourceType": "notebook"
  },
  "kernelspec": {
   "display_name": "Python 3 (ipykernel)",
   "language": "python",
   "name": "python3"
  },
  "language_info": {
   "codemirror_mode": {
    "name": "ipython",
    "version": 3
   },
   "file_extension": ".py",
   "mimetype": "text/x-python",
   "name": "python",
   "nbconvert_exporter": "python",
   "pygments_lexer": "ipython3",
   "version": "3.11.5"
  }
 },
 "nbformat": 4,
 "nbformat_minor": 4
}
