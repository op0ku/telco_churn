{
 "cells": [
  {
   "cell_type": "markdown",
   "metadata": {},
   "source": [
    "# Telco Customer Churn Data Analysis and Visualization\n",
    "\n",
    "## Data Dictionary:\n",
    "\n",
    "1. **`CustomerID`**: A unique ID that identifies each customer\n",
    "\n",
    "\n",
    "2. **`Gender`**: The customer’s gender\n",
    "    * Male\n",
    "    * Female\n",
    "\n",
    "\n",
    "3. **`Senior Citizen`**: Indicates if the customer is 65 or older\n",
    "    * Yes (1)\n",
    "    * No (0)\n",
    "\n",
    "\n",
    "4. **`Partner`**: Indicates if the customer is married\n",
    "    * Yes\n",
    "    * No\n",
    "    \n",
    "\n",
    "5. **`Dependents`**: Indicates if the customer lives with any dependents (Dependents could be children, parents, grandparents, etc.) \n",
    "    * Yes\n",
    "    * No\n",
    "\n",
    "\n",
    "6. **`Tenure`**: Indicates the total amount of months that the customer has been with the company.\n",
    "\n",
    "\n",
    "7. **`Phone Service`**: Indicates if the customer subscribes to home phone service with the company\n",
    "    * Yes\n",
    "    * No\n",
    "   \n",
    "\n",
    "8. **`Multiple Lines`**: Indicates if the customer subscribes to multiple telephone lines with the company\n",
    "    * Yes\n",
    "    * No\n",
    "    * No phone service\n",
    "\n",
    "\n",
    "9. **`Internet Service`**: Indicates if the customer subscribes to Internet service with the company\n",
    "    * No\n",
    "    * DSL\n",
    "    * Fiber Optic\n",
    "\n",
    "\n",
    "10. **`Online Security`**: Indicates if the customer subscribes to an additional online security service provided by the company\n",
    "    * Yes\n",
    "    * No\n",
    "    * No internet service\n",
    "    \n",
    "\n",
    "11. **`Online Backup`**: Indicates if the customer subscribes to an additional online backup service provided by the company\n",
    "    * Yes\n",
    "    * No\n",
    "    * No internet service\n",
    "\n",
    "\n",
    "12. **`Device Protection Plan`**: Indicates if the customer subscribes to an additional device protection plan for their Internet equipment provided by the company\n",
    "    * Yes\n",
    "    * No\n",
    "    * No internet service\n",
    "\n",
    "\n",
    "13. **`Premium Tech Support`**: Indicates if the customer subscribes to an additional technical support plan from the company with reduced wait times\n",
    "    * Yes\n",
    "    * No\n",
    "    * No internet service\n",
    "\n",
    "\n",
    "14. **`Streaming TV`**: Indicates if the customer uses their Internet service to stream television programing from a third party provider. The company does not charge an additional fee for this service.\n",
    "    * Yes\n",
    "    * No\n",
    "    * No internet service\n",
    "\n",
    "\n",
    "15. **`Streaming Movies`**: Indicates if the customer uses their Internet service to stream movies from a third party provider: Yes, No. The company does not charge an additional fee for this service.\n",
    "    * Yes\n",
    "    * No\n",
    "    * No internet service\n",
    "\n",
    "\n",
    "16. **`Contract`**: Indicates the customer’s current contract type\n",
    "    * Month-to-Month\n",
    "    * One year\n",
    "    * Two year\n",
    "\n",
    "\n",
    "17. **`Paperless Billing`**: Indicates if the customer has chosen paperless billing: Yes, No\n",
    "    * Yes\n",
    "    * No\n",
    "    \n",
    "    \n",
    "18. **`Payment Method`**: Indicates how the customer pays their bill: Bank Withdrawal, Credit Card, Mailed Check\n",
    "    * Electronic check\n",
    "    * Mailed check\n",
    "    * Bank transfer (automatic)\n",
    "    * Credit card (automatic)\n",
    "    \n",
    "    \n",
    "19. **`Monthly Charge`**: Indicates the customer’s current total monthly charge for all their services from the company.\n",
    "\n",
    "\n",
    "20. **`Total Charges`**: Indicates the customer’s total charges, calculated to the end of the quarter specified above.\n",
    "\n",
    "\n",
    "21. **`Churn`**: Yes = the customer left the company this quarter. No = the customer remained with the company. Directly related to Churn Value.\n",
    "    * Yes\n",
    "    * No\n",
    "    \n",
    "\n",
    "Source:\n",
    "https://community.ibm.com/community/user/businessanalytics/blogs/steven-macko/2019/07/11/telco-customer-churn-1113\n"
   ]
  },
  {
   "cell_type": "code",
   "execution_count": null,
   "metadata": {
    "execution": {
     "iopub.execute_input": "2024-02-12T15:02:31.960451Z",
     "iopub.status.busy": "2024-02-12T15:02:31.960029Z",
     "iopub.status.idle": "2024-02-12T15:02:35.270394Z",
     "shell.execute_reply": "2024-02-12T15:02:35.268916Z",
     "shell.execute_reply.started": "2024-02-12T15:02:31.960419Z"
    }
   },
   "outputs": [],
   "source": [
    "import numpy as np # linear algebra\n",
    "import pandas as pd # data processing, CSV file I/O (e.g. pd.read_csv)\n",
    "\n",
    "import pandas as pd\n",
    "import plotly.express as px\n",
    "import matplotlib.pyplot as plt\n",
    "import seaborn as sns\n",
    "\n",
    "import cufflinks as cf\n",
    "import plotly.offline\n",
    "cf.go_offline()\n",
    "cf.set_config_file(offline=False, world_readable=True)\n",
    "\n",
    "import plotly \n",
    "import plotly.express as px\n",
    "import plotly.graph_objs as go\n",
    "import plotly.offline as py\n",
    "from plotly.offline import iplot\n",
    "from plotly.subplots import make_subplots\n",
    "import plotly.figure_factory as ff\n",
    "\n",
    "import missingno as msno\n",
    "\n",
    "import os\n",
    "for dirname, _, filenames in os.walk('/kaggle/input'):\n",
    "    for filename in filenames:\n",
    "        print(os.path.join(dirname, filename))"
   ]
  },
  {
   "cell_type": "code",
   "execution_count": null,
   "metadata": {
    "execution": {
     "iopub.execute_input": "2024-02-12T15:02:35.274167Z",
     "iopub.status.busy": "2024-02-12T15:02:35.273673Z",
     "iopub.status.idle": "2024-02-12T15:02:35.418409Z",
     "shell.execute_reply": "2024-02-12T15:02:35.416817Z",
     "shell.execute_reply.started": "2024-02-12T15:02:35.274124Z"
    }
   },
   "outputs": [],
   "source": [
    "df = pd.read_csv(\"/kaggle/input/telco-customer-churn/WA_Fn-UseC_-Telco-Customer-Churn.csv\")\n",
    "df = df.drop('customerID',axis=1)\n",
    "df.head()"
   ]
  },
  {
   "cell_type": "markdown",
   "metadata": {},
   "source": [
    "## Data Quick Review"
   ]
  },
  {
   "cell_type": "code",
   "execution_count": null,
   "metadata": {
    "execution": {
     "iopub.execute_input": "2024-02-12T15:02:35.421526Z",
     "iopub.status.busy": "2024-02-12T15:02:35.421157Z",
     "iopub.status.idle": "2024-02-12T15:02:35.449409Z",
     "shell.execute_reply": "2024-02-12T15:02:35.447831Z",
     "shell.execute_reply.started": "2024-02-12T15:02:35.421495Z"
    }
   },
   "outputs": [],
   "source": [
    "# Check missing value\n",
    "\n",
    "df.isna().sum()"
   ]
  },
  {
   "cell_type": "markdown",
   "metadata": {},
   "source": [
    "**There is currently no null value in the data set. However, we need to examine this output in a little more detail so that it is not misleading.**"
   ]
  },
  {
   "cell_type": "code",
   "execution_count": null,
   "metadata": {
    "execution": {
     "iopub.execute_input": "2024-02-12T15:02:35.453852Z",
     "iopub.status.busy": "2024-02-12T15:02:35.453328Z",
     "iopub.status.idle": "2024-02-12T15:02:35.495497Z",
     "shell.execute_reply": "2024-02-12T15:02:35.493994Z",
     "shell.execute_reply.started": "2024-02-12T15:02:35.453808Z"
    }
   },
   "outputs": [],
   "source": [
    "df.info()"
   ]
  },
  {
   "cell_type": "markdown",
   "metadata": {},
   "source": [
    "> We can see the data consisting of 20 columns with 7043 instances. \n",
    "> According to the first observations, there are no empty values in this data set. \n",
    "> But we should note that the variable `TotalCharges` is of object type. We need to convert this variable to numeric type."
   ]
  },
  {
   "cell_type": "code",
   "execution_count": null,
   "metadata": {
    "execution": {
     "iopub.execute_input": "2024-02-12T15:02:35.498033Z",
     "iopub.status.busy": "2024-02-12T15:02:35.497623Z",
     "iopub.status.idle": "2024-02-12T15:02:35.511765Z",
     "shell.execute_reply": "2024-02-12T15:02:35.510315Z",
     "shell.execute_reply.started": "2024-02-12T15:02:35.498001Z"
    }
   },
   "outputs": [],
   "source": [
    "df['TotalCharges'] = pd.to_numeric(df['TotalCharges'], errors='coerce')"
   ]
  },
  {
   "cell_type": "code",
   "execution_count": null,
   "metadata": {
    "execution": {
     "iopub.execute_input": "2024-02-12T15:02:35.514429Z",
     "iopub.status.busy": "2024-02-12T15:02:35.514014Z",
     "iopub.status.idle": "2024-02-12T15:02:35.565836Z",
     "shell.execute_reply": "2024-02-12T15:02:35.564501Z",
     "shell.execute_reply.started": "2024-02-12T15:02:35.514398Z"
    }
   },
   "outputs": [],
   "source": [
    "# Missing values check\n",
    "\n",
    "def missing_values(df):\n",
    "        # Total missing values\n",
    "        mis_val = df.isnull().sum()\n",
    "        \n",
    "        # Percentage\n",
    "        mis_val_percent = 100 * df.isnull().sum() / len(df)\n",
    "        \n",
    "        # Make a table with the results\n",
    "        mis_val_table = pd.concat([mis_val, mis_val_percent], axis=1)\n",
    "    \n",
    "        mis_val_table_ren_columns = mis_val_table.rename(\n",
    "        columns = {0 : 'Missing Values', 1 : '% of Total Values'})\n",
    "        \n",
    "        # Sort the table by percentage of missing descending\n",
    "        mis_val_table_ren_columns = mis_val_table_ren_columns[\n",
    "            mis_val_table_ren_columns.iloc[:,1] != 0].sort_values(\n",
    "        '% of Total Values', ascending=False).round(1)\n",
    "        \n",
    "        # Print some summary information\n",
    "        print (\"Your selected dataframe has \" + str(df.shape[1]) + \" columns.\\n\"      \n",
    "            \"There are \" + str(mis_val_table_ren_columns.shape[0]) +\n",
    "              \" columns that have missing values.\")\n",
    "        \n",
    "        # Return the dataframe with missing information\n",
    "        return mis_val_table_ren_columns\n",
    "    \n",
    "missing_values_table = missing_values(df)\n",
    "missing_values_table"
   ]
  },
  {
   "cell_type": "code",
   "execution_count": null,
   "metadata": {
    "execution": {
     "iopub.execute_input": "2024-02-12T15:02:35.56837Z",
     "iopub.status.busy": "2024-02-12T15:02:35.567829Z",
     "iopub.status.idle": "2024-02-12T15:02:36.610152Z",
     "shell.execute_reply": "2024-02-12T15:02:36.609118Z",
     "shell.execute_reply.started": "2024-02-12T15:02:35.568325Z"
    }
   },
   "outputs": [],
   "source": [
    "msno.matrix(df)"
   ]
  },
  {
   "cell_type": "code",
   "execution_count": null,
   "metadata": {
    "execution": {
     "iopub.execute_input": "2024-02-12T15:02:36.611683Z",
     "iopub.status.busy": "2024-02-12T15:02:36.611296Z",
     "iopub.status.idle": "2024-02-12T15:02:36.620746Z",
     "shell.execute_reply": "2024-02-12T15:02:36.619259Z",
     "shell.execute_reply.started": "2024-02-12T15:02:36.611651Z"
    }
   },
   "outputs": [],
   "source": [
    "# Fill the empty values in the TotalCharges variable by multiplying the tenure and MonthlyCharges values\n",
    "\n",
    "df['TotalCharges'].fillna(df['tenure'] * df['MonthlyCharges'], inplace=True)"
   ]
  },
  {
   "cell_type": "code",
   "execution_count": null,
   "metadata": {
    "execution": {
     "iopub.execute_input": "2024-02-12T15:02:36.623251Z",
     "iopub.status.busy": "2024-02-12T15:02:36.622791Z",
     "iopub.status.idle": "2024-02-12T15:02:36.652773Z",
     "shell.execute_reply": "2024-02-12T15:02:36.651495Z",
     "shell.execute_reply.started": "2024-02-12T15:02:36.62321Z"
    }
   },
   "outputs": [],
   "source": [
    "# Check cardinality control\n",
    "\n",
    "df.nunique()"
   ]
  },
  {
   "cell_type": "markdown",
   "metadata": {},
   "source": [
    "**There is no cardinality problem in categorical variables.**"
   ]
  },
  {
   "cell_type": "code",
   "execution_count": null,
   "metadata": {
    "execution": {
     "iopub.execute_input": "2024-02-12T15:02:36.660569Z",
     "iopub.status.busy": "2024-02-12T15:02:36.660171Z",
     "iopub.status.idle": "2024-02-12T15:02:36.675184Z",
     "shell.execute_reply": "2024-02-12T15:02:36.673438Z",
     "shell.execute_reply.started": "2024-02-12T15:02:36.660526Z"
    }
   },
   "outputs": [],
   "source": [
    "# Let's review categorical and numerical values one last time\n",
    "\n",
    "def filter_categorical_numeric_columns(dataframe):\n",
    "    categorical_columns = dataframe.select_dtypes(include=['object', 'category']).columns\n",
    "    numeric_columns = dataframe.select_dtypes(include=['number']).columns\n",
    "    return categorical_columns, numeric_columns\n",
    "\n",
    "# Filter categorical and numeric variables\n",
    "categorical_cols, numeric_cols = filter_categorical_numeric_columns(df)\n",
    "\n",
    "print(\"Categorics:\")\n",
    "print(categorical_cols)\n",
    "print(\"\\nNumerics:\")\n",
    "print(numeric_cols)"
   ]
  },
  {
   "cell_type": "code",
   "execution_count": null,
   "metadata": {
    "execution": {
     "iopub.execute_input": "2024-02-12T15:02:36.678022Z",
     "iopub.status.busy": "2024-02-12T15:02:36.677465Z",
     "iopub.status.idle": "2024-02-12T15:02:36.702068Z",
     "shell.execute_reply": "2024-02-12T15:02:36.700708Z",
     "shell.execute_reply.started": "2024-02-12T15:02:36.677981Z"
    }
   },
   "outputs": [],
   "source": [
    "# Let's see the unique values of the categorical features.\n",
    "\n",
    "for feature in df[categorical_cols]:\n",
    "        print(f'{feature}: {df[feature].unique()}')"
   ]
  },
  {
   "cell_type": "markdown",
   "metadata": {},
   "source": [
    "**In `MultipleLines`, `OnlineSecurity`, `OnlineBackup`, `DeviceProtection`, `TechSupport`, `StreamingTV` and `StreamingMovies` variables 'No' and 'No internet service' are used repeatedly although they mean the same thing. These need to be merged during the model development phase.**"
   ]
  },
  {
   "cell_type": "code",
   "execution_count": null,
   "metadata": {
    "execution": {
     "iopub.execute_input": "2024-02-12T15:02:36.70446Z",
     "iopub.status.busy": "2024-02-12T15:02:36.704073Z",
     "iopub.status.idle": "2024-02-12T15:02:36.726083Z",
     "shell.execute_reply": "2024-02-12T15:02:36.725072Z",
     "shell.execute_reply.started": "2024-02-12T15:02:36.704426Z"
    }
   },
   "outputs": [],
   "source": [
    "df['MultipleLines'] = df['MultipleLines'].replace('No phone service','No')\n",
    "\n",
    "columns_to_replace = ['OnlineSecurity', 'OnlineBackup', 'DeviceProtection', 'TechSupport', 'StreamingTV', 'StreamingMovies']\n",
    "\n",
    "for column in columns_to_replace:\n",
    "    df[column] = df[column].replace('No internet service', 'No')"
   ]
  },
  {
   "cell_type": "markdown",
   "metadata": {},
   "source": [
    "## Visualization"
   ]
  },
  {
   "cell_type": "code",
   "execution_count": null,
   "metadata": {
    "execution": {
     "iopub.execute_input": "2024-02-12T15:02:36.728688Z",
     "iopub.status.busy": "2024-02-12T15:02:36.727426Z",
     "iopub.status.idle": "2024-02-12T15:02:38.46651Z",
     "shell.execute_reply": "2024-02-12T15:02:38.465081Z",
     "shell.execute_reply.started": "2024-02-12T15:02:36.728647Z"
    }
   },
   "outputs": [],
   "source": [
    "import matplotlib.pyplot as plt\n",
    "import seaborn as sns \n",
    "import plotly.express as px\n",
    "import warnings\n",
    "warnings.filterwarnings('ignore')\n",
    "\n",
    "churn_counts= df['Churn'].value_counts()\n",
    "fig2 = px.pie(names= churn_counts.keys(), values= churn_counts.values, title='Churn Distribution')\n",
    "fig2.show()"
   ]
  },
  {
   "cell_type": "markdown",
   "metadata": {},
   "source": [
    "* 26.5% of customers churned. \n",
    "* It can be seen that this data set is unbalanced. "
   ]
  },
  {
   "cell_type": "code",
   "execution_count": null,
   "metadata": {
    "execution": {
     "iopub.execute_input": "2024-02-12T15:02:38.468492Z",
     "iopub.status.busy": "2024-02-12T15:02:38.468137Z",
     "iopub.status.idle": "2024-02-12T15:02:38.483749Z",
     "shell.execute_reply": "2024-02-12T15:02:38.482006Z",
     "shell.execute_reply.started": "2024-02-12T15:02:38.468462Z"
    }
   },
   "outputs": [],
   "source": [
    "'''This function gives the distribution of variables, \n",
    "their relationship with the target variable and the probability of churn on a variable basis.'''\n",
    "\n",
    "def analyze_category(df, category_column, target_column='Churn'):\n",
    "    # Value Counts Pie Chart\n",
    "    category_counts = df[category_column].value_counts()\n",
    "    fig = px.pie(names=category_counts.index, values=category_counts.values, title=f'{category_column} Distribution')\n",
    "    fig.show()\n",
    "\n",
    "    # Churn Probabilities\n",
    "    churn_probabilities = df.groupby(category_column)[target_column].value_counts(normalize=True) * 100\n",
    "    for category_value in df[category_column].unique():\n",
    "        churn_rate = churn_probabilities[category_value]['Yes'] if 'Yes' in churn_probabilities[category_value].index else 0\n",
    "        print(f\"A {category_value} customer has a probability of {churn_rate:.2f}% churn\")\n",
    "\n",
    "    # Histogram\n",
    "    fig = px.histogram(df, x=category_column, color=target_column, width=400, height=400)\n",
    "    fig.show()\n",
    "\n",
    "    # Grouping\n",
    "    grouped_data = df.groupby([category_column, target_column]).size().reset_index(name='count')\n",
    "\n",
    "    # Bar Chart\n",
    "    plt.figure(figsize=(10, 6))\n",
    "    sns.barplot(data=grouped_data, x=category_column, y='count', hue=target_column)\n",
    "    plt.title(f'Number of people with or without churn by {category_column} type')\n",
    "    plt.xlabel(category_column)\n",
    "    plt.ylabel('Count')\n",
    "    plt.show()"
   ]
  },
  {
   "cell_type": "markdown",
   "metadata": {},
   "source": [
    "### Gender"
   ]
  },
  {
   "cell_type": "code",
   "execution_count": null,
   "metadata": {
    "execution": {
     "iopub.execute_input": "2024-02-12T15:02:38.486542Z",
     "iopub.status.busy": "2024-02-12T15:02:38.486022Z",
     "iopub.status.idle": "2024-02-12T15:02:38.531709Z",
     "shell.execute_reply": "2024-02-12T15:02:38.530441Z",
     "shell.execute_reply.started": "2024-02-12T15:02:38.486492Z"
    }
   },
   "outputs": [],
   "source": [
    "df[\"gender\"].value_counts()"
   ]
  },
  {
   "cell_type": "code",
   "execution_count": null,
   "metadata": {
    "execution": {
     "iopub.execute_input": "2024-02-12T15:02:38.535326Z",
     "iopub.status.busy": "2024-02-12T15:02:38.534889Z",
     "iopub.status.idle": "2024-02-12T15:02:39.043263Z",
     "shell.execute_reply": "2024-02-12T15:02:39.041946Z",
     "shell.execute_reply.started": "2024-02-12T15:02:38.535291Z"
    }
   },
   "outputs": [],
   "source": [
    "analyze_category(df, 'gender')"
   ]
  },
  {
   "cell_type": "markdown",
   "metadata": {},
   "source": [
    "### SeniorCitizen"
   ]
  },
  {
   "cell_type": "code",
   "execution_count": null,
   "metadata": {
    "execution": {
     "iopub.execute_input": "2024-02-12T15:02:39.045568Z",
     "iopub.status.busy": "2024-02-12T15:02:39.045138Z",
     "iopub.status.idle": "2024-02-12T15:02:39.057174Z",
     "shell.execute_reply": "2024-02-12T15:02:39.056167Z",
     "shell.execute_reply.started": "2024-02-12T15:02:39.045518Z"
    }
   },
   "outputs": [],
   "source": [
    "df[\"SeniorCitizen\"].value_counts()"
   ]
  },
  {
   "cell_type": "code",
   "execution_count": null,
   "metadata": {
    "execution": {
     "iopub.execute_input": "2024-02-12T15:02:39.059971Z",
     "iopub.status.busy": "2024-02-12T15:02:39.05842Z",
     "iopub.status.idle": "2024-02-12T15:02:39.464193Z",
     "shell.execute_reply": "2024-02-12T15:02:39.462655Z",
     "shell.execute_reply.started": "2024-02-12T15:02:39.059909Z"
    }
   },
   "outputs": [],
   "source": [
    "analyze_category(df, 'SeniorCitizen')"
   ]
  },
  {
   "cell_type": "markdown",
   "metadata": {},
   "source": [
    "### Partner"
   ]
  },
  {
   "cell_type": "code",
   "execution_count": null,
   "metadata": {
    "execution": {
     "iopub.execute_input": "2024-02-12T15:02:39.46617Z",
     "iopub.status.busy": "2024-02-12T15:02:39.465782Z",
     "iopub.status.idle": "2024-02-12T15:02:39.476874Z",
     "shell.execute_reply": "2024-02-12T15:02:39.47566Z",
     "shell.execute_reply.started": "2024-02-12T15:02:39.466138Z"
    }
   },
   "outputs": [],
   "source": [
    "df[\"Partner\"].value_counts()"
   ]
  },
  {
   "cell_type": "code",
   "execution_count": null,
   "metadata": {
    "execution": {
     "iopub.execute_input": "2024-02-12T15:02:39.479763Z",
     "iopub.status.busy": "2024-02-12T15:02:39.479244Z",
     "iopub.status.idle": "2024-02-12T15:02:39.951252Z",
     "shell.execute_reply": "2024-02-12T15:02:39.949822Z",
     "shell.execute_reply.started": "2024-02-12T15:02:39.479722Z"
    }
   },
   "outputs": [],
   "source": [
    "analyze_category(df, 'Partner')"
   ]
  },
  {
   "cell_type": "markdown",
   "metadata": {},
   "source": [
    "### Dependents"
   ]
  },
  {
   "cell_type": "code",
   "execution_count": null,
   "metadata": {
    "execution": {
     "iopub.execute_input": "2024-02-12T15:02:39.95385Z",
     "iopub.status.busy": "2024-02-12T15:02:39.952969Z",
     "iopub.status.idle": "2024-02-12T15:02:39.965875Z",
     "shell.execute_reply": "2024-02-12T15:02:39.96465Z",
     "shell.execute_reply.started": "2024-02-12T15:02:39.953806Z"
    }
   },
   "outputs": [],
   "source": [
    "df[\"Dependents\"].value_counts()"
   ]
  },
  {
   "cell_type": "code",
   "execution_count": null,
   "metadata": {
    "execution": {
     "iopub.execute_input": "2024-02-12T15:02:39.969066Z",
     "iopub.status.busy": "2024-02-12T15:02:39.967446Z",
     "iopub.status.idle": "2024-02-12T15:02:40.458943Z",
     "shell.execute_reply": "2024-02-12T15:02:40.45793Z",
     "shell.execute_reply.started": "2024-02-12T15:02:39.969023Z"
    }
   },
   "outputs": [],
   "source": [
    "analyze_category(df, 'Dependents')"
   ]
  },
  {
   "cell_type": "markdown",
   "metadata": {},
   "source": [
    "### PhoneService"
   ]
  },
  {
   "cell_type": "code",
   "execution_count": null,
   "metadata": {
    "execution": {
     "iopub.execute_input": "2024-02-12T15:02:40.461524Z",
     "iopub.status.busy": "2024-02-12T15:02:40.460348Z",
     "iopub.status.idle": "2024-02-12T15:02:40.472294Z",
     "shell.execute_reply": "2024-02-12T15:02:40.470992Z",
     "shell.execute_reply.started": "2024-02-12T15:02:40.461491Z"
    }
   },
   "outputs": [],
   "source": [
    "df[\"PhoneService\"].value_counts()"
   ]
  },
  {
   "cell_type": "code",
   "execution_count": null,
   "metadata": {
    "execution": {
     "iopub.execute_input": "2024-02-12T15:02:40.475653Z",
     "iopub.status.busy": "2024-02-12T15:02:40.474447Z",
     "iopub.status.idle": "2024-02-12T15:02:40.903508Z",
     "shell.execute_reply": "2024-02-12T15:02:40.901934Z",
     "shell.execute_reply.started": "2024-02-12T15:02:40.475591Z"
    }
   },
   "outputs": [],
   "source": [
    "analyze_category(df, 'PhoneService')"
   ]
  },
  {
   "cell_type": "markdown",
   "metadata": {},
   "source": [
    "### MultipleLines"
   ]
  },
  {
   "cell_type": "code",
   "execution_count": null,
   "metadata": {
    "execution": {
     "iopub.execute_input": "2024-02-12T15:02:40.905965Z",
     "iopub.status.busy": "2024-02-12T15:02:40.905544Z",
     "iopub.status.idle": "2024-02-12T15:02:40.91898Z",
     "shell.execute_reply": "2024-02-12T15:02:40.917468Z",
     "shell.execute_reply.started": "2024-02-12T15:02:40.905935Z"
    }
   },
   "outputs": [],
   "source": [
    "df[\"MultipleLines\"].value_counts()"
   ]
  },
  {
   "cell_type": "code",
   "execution_count": null,
   "metadata": {
    "execution": {
     "iopub.execute_input": "2024-02-12T15:02:40.921583Z",
     "iopub.status.busy": "2024-02-12T15:02:40.920267Z",
     "iopub.status.idle": "2024-02-12T15:02:41.353888Z",
     "shell.execute_reply": "2024-02-12T15:02:41.352934Z",
     "shell.execute_reply.started": "2024-02-12T15:02:40.921519Z"
    }
   },
   "outputs": [],
   "source": [
    "analyze_category(df, 'MultipleLines')"
   ]
  },
  {
   "cell_type": "markdown",
   "metadata": {},
   "source": [
    "### InternetService"
   ]
  },
  {
   "cell_type": "code",
   "execution_count": null,
   "metadata": {
    "execution": {
     "iopub.execute_input": "2024-02-12T15:02:41.355915Z",
     "iopub.status.busy": "2024-02-12T15:02:41.355286Z",
     "iopub.status.idle": "2024-02-12T15:02:41.367539Z",
     "shell.execute_reply": "2024-02-12T15:02:41.366152Z",
     "shell.execute_reply.started": "2024-02-12T15:02:41.355882Z"
    }
   },
   "outputs": [],
   "source": [
    "df[\"InternetService\"].value_counts()"
   ]
  },
  {
   "cell_type": "code",
   "execution_count": null,
   "metadata": {
    "execution": {
     "iopub.execute_input": "2024-02-12T15:02:41.375045Z",
     "iopub.status.busy": "2024-02-12T15:02:41.374623Z",
     "iopub.status.idle": "2024-02-12T15:02:41.847802Z",
     "shell.execute_reply": "2024-02-12T15:02:41.846327Z",
     "shell.execute_reply.started": "2024-02-12T15:02:41.375014Z"
    }
   },
   "outputs": [],
   "source": [
    "analyze_category(df, 'InternetService')"
   ]
  },
  {
   "cell_type": "markdown",
   "metadata": {},
   "source": [
    "### OnlineSecurity"
   ]
  },
  {
   "cell_type": "code",
   "execution_count": null,
   "metadata": {
    "execution": {
     "iopub.execute_input": "2024-02-12T15:02:41.850087Z",
     "iopub.status.busy": "2024-02-12T15:02:41.849642Z",
     "iopub.status.idle": "2024-02-12T15:02:41.862453Z",
     "shell.execute_reply": "2024-02-12T15:02:41.861005Z",
     "shell.execute_reply.started": "2024-02-12T15:02:41.850051Z"
    }
   },
   "outputs": [],
   "source": [
    "df[\"OnlineSecurity\"].value_counts()"
   ]
  },
  {
   "cell_type": "code",
   "execution_count": null,
   "metadata": {
    "execution": {
     "iopub.execute_input": "2024-02-12T15:02:41.864332Z",
     "iopub.status.busy": "2024-02-12T15:02:41.86397Z",
     "iopub.status.idle": "2024-02-12T15:02:42.320192Z",
     "shell.execute_reply": "2024-02-12T15:02:42.318922Z",
     "shell.execute_reply.started": "2024-02-12T15:02:41.864305Z"
    }
   },
   "outputs": [],
   "source": [
    "analyze_category(df, 'OnlineSecurity')"
   ]
  },
  {
   "cell_type": "markdown",
   "metadata": {},
   "source": [
    "### OnlineBackup"
   ]
  },
  {
   "cell_type": "code",
   "execution_count": null,
   "metadata": {
    "execution": {
     "iopub.execute_input": "2024-02-12T15:02:42.323194Z",
     "iopub.status.busy": "2024-02-12T15:02:42.322337Z",
     "iopub.status.idle": "2024-02-12T15:02:42.335234Z",
     "shell.execute_reply": "2024-02-12T15:02:42.333974Z",
     "shell.execute_reply.started": "2024-02-12T15:02:42.323141Z"
    }
   },
   "outputs": [],
   "source": [
    "df[\"OnlineBackup\"].value_counts()"
   ]
  },
  {
   "cell_type": "code",
   "execution_count": null,
   "metadata": {
    "execution": {
     "iopub.execute_input": "2024-02-12T15:02:42.337605Z",
     "iopub.status.busy": "2024-02-12T15:02:42.33721Z",
     "iopub.status.idle": "2024-02-12T15:02:42.773259Z",
     "shell.execute_reply": "2024-02-12T15:02:42.772241Z",
     "shell.execute_reply.started": "2024-02-12T15:02:42.337575Z"
    }
   },
   "outputs": [],
   "source": [
    "analyze_category(df, 'OnlineBackup')"
   ]
  },
  {
   "cell_type": "markdown",
   "metadata": {},
   "source": [
    "### DeviceProtection"
   ]
  },
  {
   "cell_type": "code",
   "execution_count": null,
   "metadata": {
    "execution": {
     "iopub.execute_input": "2024-02-12T15:02:42.775215Z",
     "iopub.status.busy": "2024-02-12T15:02:42.774834Z",
     "iopub.status.idle": "2024-02-12T15:02:42.785866Z",
     "shell.execute_reply": "2024-02-12T15:02:42.784813Z",
     "shell.execute_reply.started": "2024-02-12T15:02:42.775184Z"
    }
   },
   "outputs": [],
   "source": [
    "df[\"DeviceProtection\"].value_counts()"
   ]
  },
  {
   "cell_type": "code",
   "execution_count": null,
   "metadata": {
    "execution": {
     "iopub.execute_input": "2024-02-12T15:02:42.787754Z",
     "iopub.status.busy": "2024-02-12T15:02:42.787381Z",
     "iopub.status.idle": "2024-02-12T15:02:43.26323Z",
     "shell.execute_reply": "2024-02-12T15:02:43.261986Z",
     "shell.execute_reply.started": "2024-02-12T15:02:42.787726Z"
    }
   },
   "outputs": [],
   "source": [
    "analyze_category(df, 'DeviceProtection')"
   ]
  },
  {
   "cell_type": "markdown",
   "metadata": {},
   "source": [
    "### TechSupport"
   ]
  },
  {
   "cell_type": "code",
   "execution_count": null,
   "metadata": {
    "execution": {
     "iopub.execute_input": "2024-02-12T15:02:43.267051Z",
     "iopub.status.busy": "2024-02-12T15:02:43.26567Z",
     "iopub.status.idle": "2024-02-12T15:02:43.278206Z",
     "shell.execute_reply": "2024-02-12T15:02:43.277176Z",
     "shell.execute_reply.started": "2024-02-12T15:02:43.267007Z"
    }
   },
   "outputs": [],
   "source": [
    "df[\"TechSupport\"].value_counts()"
   ]
  },
  {
   "cell_type": "code",
   "execution_count": null,
   "metadata": {
    "execution": {
     "iopub.execute_input": "2024-02-12T15:02:43.280919Z",
     "iopub.status.busy": "2024-02-12T15:02:43.279566Z",
     "iopub.status.idle": "2024-02-12T15:02:43.91079Z",
     "shell.execute_reply": "2024-02-12T15:02:43.909296Z",
     "shell.execute_reply.started": "2024-02-12T15:02:43.28086Z"
    }
   },
   "outputs": [],
   "source": [
    "analyze_category(df, 'TechSupport')"
   ]
  },
  {
   "cell_type": "markdown",
   "metadata": {},
   "source": [
    "### StreamingTV"
   ]
  },
  {
   "cell_type": "code",
   "execution_count": null,
   "metadata": {
    "execution": {
     "iopub.execute_input": "2024-02-12T15:02:43.91325Z",
     "iopub.status.busy": "2024-02-12T15:02:43.91289Z",
     "iopub.status.idle": "2024-02-12T15:02:43.925352Z",
     "shell.execute_reply": "2024-02-12T15:02:43.923795Z",
     "shell.execute_reply.started": "2024-02-12T15:02:43.913221Z"
    }
   },
   "outputs": [],
   "source": [
    "df[\"StreamingTV\"].value_counts()"
   ]
  },
  {
   "cell_type": "code",
   "execution_count": null,
   "metadata": {
    "execution": {
     "iopub.execute_input": "2024-02-12T15:02:43.927777Z",
     "iopub.status.busy": "2024-02-12T15:02:43.927261Z",
     "iopub.status.idle": "2024-02-12T15:02:44.381337Z",
     "shell.execute_reply": "2024-02-12T15:02:44.380339Z",
     "shell.execute_reply.started": "2024-02-12T15:02:43.927745Z"
    }
   },
   "outputs": [],
   "source": [
    "analyze_category(df, 'StreamingTV')"
   ]
  },
  {
   "cell_type": "markdown",
   "metadata": {},
   "source": [
    "### StreamingMovies"
   ]
  },
  {
   "cell_type": "code",
   "execution_count": null,
   "metadata": {
    "execution": {
     "iopub.execute_input": "2024-02-12T15:02:44.383169Z",
     "iopub.status.busy": "2024-02-12T15:02:44.382801Z",
     "iopub.status.idle": "2024-02-12T15:02:44.394716Z",
     "shell.execute_reply": "2024-02-12T15:02:44.393199Z",
     "shell.execute_reply.started": "2024-02-12T15:02:44.383137Z"
    }
   },
   "outputs": [],
   "source": [
    "df[\"StreamingMovies\"].value_counts()"
   ]
  },
  {
   "cell_type": "code",
   "execution_count": null,
   "metadata": {
    "execution": {
     "iopub.execute_input": "2024-02-12T15:02:44.396942Z",
     "iopub.status.busy": "2024-02-12T15:02:44.396481Z",
     "iopub.status.idle": "2024-02-12T15:02:44.846829Z",
     "shell.execute_reply": "2024-02-12T15:02:44.845521Z",
     "shell.execute_reply.started": "2024-02-12T15:02:44.39691Z"
    }
   },
   "outputs": [],
   "source": [
    "analyze_category(df, 'StreamingMovies')"
   ]
  },
  {
   "cell_type": "markdown",
   "metadata": {},
   "source": [
    "### Contract"
   ]
  },
  {
   "cell_type": "code",
   "execution_count": null,
   "metadata": {
    "execution": {
     "iopub.execute_input": "2024-02-12T15:02:44.84946Z",
     "iopub.status.busy": "2024-02-12T15:02:44.84902Z",
     "iopub.status.idle": "2024-02-12T15:02:44.860742Z",
     "shell.execute_reply": "2024-02-12T15:02:44.859247Z",
     "shell.execute_reply.started": "2024-02-12T15:02:44.849427Z"
    }
   },
   "outputs": [],
   "source": [
    "df[\"Contract\"].value_counts()"
   ]
  },
  {
   "cell_type": "code",
   "execution_count": null,
   "metadata": {
    "execution": {
     "iopub.execute_input": "2024-02-12T15:02:44.862852Z",
     "iopub.status.busy": "2024-02-12T15:02:44.862343Z",
     "iopub.status.idle": "2024-02-12T15:02:45.320683Z",
     "shell.execute_reply": "2024-02-12T15:02:45.318989Z",
     "shell.execute_reply.started": "2024-02-12T15:02:44.86282Z"
    }
   },
   "outputs": [],
   "source": [
    "analyze_category(df, 'Contract')"
   ]
  },
  {
   "cell_type": "markdown",
   "metadata": {},
   "source": [
    "### PaperlessBilling"
   ]
  },
  {
   "cell_type": "code",
   "execution_count": null,
   "metadata": {
    "execution": {
     "iopub.execute_input": "2024-02-12T15:02:45.323473Z",
     "iopub.status.busy": "2024-02-12T15:02:45.322994Z",
     "iopub.status.idle": "2024-02-12T15:02:45.769725Z",
     "shell.execute_reply": "2024-02-12T15:02:45.768329Z",
     "shell.execute_reply.started": "2024-02-12T15:02:45.323433Z"
    }
   },
   "outputs": [],
   "source": [
    "analyze_category(df, 'PaperlessBilling')"
   ]
  },
  {
   "cell_type": "markdown",
   "metadata": {},
   "source": [
    "### PaymentMethod"
   ]
  },
  {
   "cell_type": "code",
   "execution_count": null,
   "metadata": {
    "execution": {
     "iopub.execute_input": "2024-02-12T15:02:45.771692Z",
     "iopub.status.busy": "2024-02-12T15:02:45.771331Z",
     "iopub.status.idle": "2024-02-12T15:02:46.25252Z",
     "shell.execute_reply": "2024-02-12T15:02:46.251216Z",
     "shell.execute_reply.started": "2024-02-12T15:02:45.771663Z"
    }
   },
   "outputs": [],
   "source": [
    "analyze_category(df, 'PaymentMethod')"
   ]
  },
  {
   "cell_type": "markdown",
   "metadata": {},
   "source": [
    "### Tenure & MonthlyCharges & TotalCharges"
   ]
  },
  {
   "cell_type": "code",
   "execution_count": null,
   "metadata": {
    "execution": {
     "iopub.execute_input": "2024-02-12T15:02:46.254864Z",
     "iopub.status.busy": "2024-02-12T15:02:46.254492Z",
     "iopub.status.idle": "2024-02-12T15:02:46.798673Z",
     "shell.execute_reply": "2024-02-12T15:02:46.797694Z",
     "shell.execute_reply.started": "2024-02-12T15:02:46.254835Z"
    }
   },
   "outputs": [],
   "source": [
    "df[['tenure', 'MonthlyCharges', 'TotalCharges']].iplot(kind='histogram',subplots=True,bins=50)"
   ]
  },
  {
   "cell_type": "markdown",
   "metadata": {},
   "source": [
    "## Important Takeaways\n",
    "\n",
    "**`Gender`** : \n",
    "* The data set consists of 49.5% Female and 50.5% Man. \n",
    "* When we examine the data, there is no noticeable difference between genders in terms of churn probability.\n",
    "\n",
    "**`SeniorCitizen`** :\n",
    "* The vast majority of customers (83.8%) are under the age of 65. \n",
    "* In contrast, customers aged 65 and over are 1.76 times more likely to churn than others.\n",
    "\n",
    "**`Partner`** :\n",
    "* Whether customers are married or not is almost evenly distributed in the dataset. \n",
    "* The churn probability of married customers is 19.66%, while this rate is 32.96% for unmarried customers.\n",
    "\n",
    "**`Dependents`** :\n",
    "* People without dependents are 2 times more likely to churn than those with dependents. \n",
    "* However, this is an issue that needs to be explored further given that 70% of people are not dependent on someone.\n",
    "\n",
    "**`PhoneService`** : \n",
    "* 90% of customers do not subscribe to the company's telephone service. \n",
    "* When looking at the probability of churn, subscribers and non-subscribers are almost equally likely.\n",
    "\n",
    "**`MultipleLines`** : \n",
    "* Churn rate difference between customer has a multiple lines phone service with the company and customer does not have a multiple line phone service with the company is very small.\n",
    "\n",
    "**`InternetServices`** : \n",
    "* Fiber Optic users constitute 44% of the data set. \n",
    "* Fiber optic users have a 42% churn probability, while DSL users have a 19% probability and others have a 7.4% probability.\n",
    "* Fiber optic customers are 2.2 times more likely to churn than DSL customers and 5.6 times more likely than customers without an internet subscription.\n",
    "\n",
    "**`OnlineSecurity`** : \n",
    "* A customer with an online security service with the company almost 2.14 times less likely to leave the company than a customer without any online security service with the company. \n",
    "\n",
    "**`OnlineBackup`** : \n",
    "* There is no noticeable difference in the churn rates of customers with or without an additional online backup system provided by the company.\n",
    "\n",
    "**`DeviceProtection`** : \n",
    "* Customers who do not subscribe to this plan are 1.3 times more likely to churn than others.\n",
    "\n",
    "**`TechSupport`** : \n",
    "* The churn probability of the customer without a technical support plan is 31.19%, while the others are 15.17%. \n",
    "* In other words, customers without a technical support plan exhibited 2 times more churn.\n",
    "\n",
    "**`StreamingTV - StreamingMovies`** : \n",
    "* StreamingTV and StreamingMovies data do not provide significant information about the likelihood of churn. \n",
    "* Churn rates are close to each other.\n",
    "\n",
    "**`Contract`** : \n",
    "* The churn rate of customers with month-to-month contracts is 3.8 times higher than customers with one year contracts and 15 times higher than customers with two year contracts. \n",
    "* We can say that customers with two year contracts have a serious loyalty.\n",
    "\n",
    "**`PaperlessBilling`** : \n",
    "* Customers who choose paperless billing have 2 times higher churn rate than others.\n",
    "\n",
    "**`PaymentMethod`** : \n",
    "* The number of customers for all payment methods is almost the same. \n",
    "* However, customers with electronic check payment method churn 2.3 - 3 times more than other customers."
   ]
  }
 ],
 "metadata": {
  "kaggle": {
   "accelerator": "none",
   "dataSources": [
    {
     "datasetId": 13996,
     "sourceId": 18858,
     "sourceType": "datasetVersion"
    }
   ],
   "dockerImageVersionId": 30646,
   "isGpuEnabled": false,
   "isInternetEnabled": false,
   "language": "python",
   "sourceType": "notebook"
  },
  "kernelspec": {
   "display_name": "Python 3 (ipykernel)",
   "language": "python",
   "name": "python3"
  },
  "language_info": {
   "codemirror_mode": {
    "name": "ipython",
    "version": 3
   },
   "file_extension": ".py",
   "mimetype": "text/x-python",
   "name": "python",
   "nbconvert_exporter": "python",
   "pygments_lexer": "ipython3",
   "version": "3.11.5"
  }
 },
 "nbformat": 4,
 "nbformat_minor": 4
}
